{
 "cells": [
  {
   "cell_type": "markdown",
   "metadata": {},
   "source": [
    "# Exploratory data analysis"
   ]
  },
  {
   "cell_type": "markdown",
   "metadata": {},
   "source": [
    "## Load data"
   ]
  },
  {
   "cell_type": "code",
   "execution_count": 1,
   "metadata": {},
   "outputs": [],
   "source": [
    "from parse_data import TextsinlevelsDB"
   ]
  },
  {
   "cell_type": "code",
   "execution_count": 2,
   "metadata": {},
   "outputs": [],
   "source": [
    "textsinlevels = TextsinlevelsDB(db_name=\"textsinlevels\")\n",
    "df_news = textsinlevels.write_from_table_to_df(\"newsinlevels\")\n",
    "df_days = textsinlevels.write_from_table_to_df(\"daysinlevels\")\n",
    "del textsinlevels"
   ]
  },
  {
   "cell_type": "code",
   "execution_count": 3,
   "metadata": {},
   "outputs": [],
   "source": [
    "def print_general_info(df):\n",
    "    print(df.head())\n",
    "    print()\n",
    "    print(\"The number of texts:\", df.shape[0])\n",
    "    print(f\"The number of texts for each level:\\n{df['level'].value_counts().sort_index()}\")"
   ]
  },
  {
   "cell_type": "code",
   "execution_count": 4,
   "metadata": {},
   "outputs": [
    {
     "name": "stdout",
     "output_type": "stream",
     "text": [
      "               date                                     heading  \\\n",
      "0  15-01-2022 12:00                           Test your English   \n",
      "1  14-01-2022 15:00  World’s best skater can go to the Olympics   \n",
      "2  14-01-2022 07:00                        Man with a pig heart   \n",
      "3  13-01-2022 15:00                         New mirror in space   \n",
      "4  13-01-2022 07:00                               Hainan towers   \n",
      "\n",
      "                                        article_text  level  \n",
      "0  We have a test for students of English. You ca...      1  \n",
      "1  Erin Jackson is an American athlete. She is th...      1  \n",
      "2  David Bennet comes from Maryland, US. He is 57...      1  \n",
      "3  A rocket goes in space two weeks ago. It carri...      1  \n",
      "4  The Evergrande Group is a Chinese company. It ...      1  \n",
      "\n",
      "The number of texts: 9817\n",
      "The number of texts for each level:\n",
      "1    3273\n",
      "2    3272\n",
      "3    3272\n",
      "Name: level, dtype: int64\n"
     ]
    }
   ],
   "source": [
    "print_general_info(df_news)"
   ]
  },
  {
   "cell_type": "code",
   "execution_count": 5,
   "metadata": {},
   "outputs": [
    {
     "name": "stdout",
     "output_type": "stream",
     "text": [
      "          date                                            heading  \\\n",
      "0   12-01-2010                   The day the earthquake hit Haiti   \n",
      "1   10-01-1789      The day of the first US presidential election   \n",
      "2  10-01-49 BC                 The day Caesar crossed the Rubicon   \n",
      "3   09-01-1959        The day Fidel Castro took control over Cuba   \n",
      "4   05-01-1933  The day the Golden Gate Bridge construction st...   \n",
      "\n",
      "                                        article_text  level  \n",
      "0  Millions of people live in Haiti. Haiti is a p...      1  \n",
      "1  It is December 15, 1788. It is time when the e...      1  \n",
      "2  Two thousand years ago, Rome is a republic. Ro...      1  \n",
      "3  It is 1956. Fidel Castro wants a revolution in...      1  \n",
      "4  The Golden Gate Bridge is a symbol of San Fran...      1  \n",
      "\n",
      "The number of texts: 477\n",
      "The number of texts for each level:\n",
      "1    159\n",
      "2    159\n",
      "3    159\n",
      "Name: level, dtype: int64\n"
     ]
    }
   ],
   "source": [
    "print_general_info(df_days)"
   ]
  },
  {
   "cell_type": "markdown",
   "metadata": {},
   "source": [
    "## Preprocessing"
   ]
  },
  {
   "cell_type": "code",
   "execution_count": 6,
   "metadata": {},
   "outputs": [],
   "source": [
    "import spacy\n",
    "from tqdm.notebook import tqdm"
   ]
  },
  {
   "cell_type": "code",
   "execution_count": 7,
   "metadata": {},
   "outputs": [],
   "source": [
    "def preprocess(dataset, dataset_name, model):\n",
    "    doc_bin = spacy.tokens.DocBin(store_user_data=False)\n",
    "    for doc in nlp.pipe(tqdm(dataset[\"article_text\"])):\n",
    "        doc_bin.add(doc)\n",
    "    doc_bin.to_disk(dataset_name)"
   ]
  },
  {
   "cell_type": "code",
   "execution_count": 8,
   "metadata": {},
   "outputs": [],
   "source": [
    "def load_preprocessed_data(dataset_name):\n",
    "    nlp = spacy.blank(\"en\")\n",
    "    doc_bin = spacy.tokens.DocBin().from_disk(dataset_name)\n",
    "    docs = list(doc_bin.get_docs(nlp.vocab))\n",
    "    return docs"
   ]
  },
  {
   "cell_type": "code",
   "execution_count": 9,
   "metadata": {},
   "outputs": [],
   "source": [
    "model = \"en_core_web_lg\"\n",
    "nlp = spacy.load(model)"
   ]
  },
  {
   "cell_type": "code",
   "execution_count": null,
   "metadata": {},
   "outputs": [],
   "source": [
    "preprocess(dataset=df_news, dataset_name=\"news\", model=model)\n",
    "preprocess(dataset=df_days, dataset_name=\"days\", model=model)"
   ]
  },
  {
   "cell_type": "code",
   "execution_count": 10,
   "metadata": {},
   "outputs": [],
   "source": [
    "news = load_preprocessed_data(\"news\")\n",
    "days = load_preprocessed_data(\"days\")"
   ]
  },
  {
   "cell_type": "markdown",
   "metadata": {},
   "source": [
    "## Feature Engineering"
   ]
  },
  {
   "cell_type": "markdown",
   "metadata": {},
   "source": [
    "### Readability"
   ]
  },
  {
   "cell_type": "markdown",
   "metadata": {},
   "source": [
    "https://github.com/cdimascio/py-readability-metrics"
   ]
  },
  {
   "cell_type": "code",
   "execution_count": 81,
   "metadata": {},
   "outputs": [],
   "source": [
    "from readability import Readability"
   ]
  },
  {
   "cell_type": "code",
   "execution_count": 82,
   "metadata": {},
   "outputs": [
    {
     "name": "stdout",
     "output_type": "stream",
     "text": [
      "5228\n"
     ]
    }
   ],
   "source": [
    "flesch_kincaid = []\n",
    "count = 0\n",
    "\n",
    "for article in news:\n",
    "    r = Readability(article.text)\n",
    "    try:\n",
    "        flesch_kincaid.append(r.flesch_kincaid().score)\n",
    "    except:\n",
    "        count += 1\n",
    "print(count)"
   ]
  },
  {
   "cell_type": "code",
   "execution_count": 83,
   "metadata": {},
   "outputs": [
    {
     "name": "stdout",
     "output_type": "stream",
     "text": [
      "5228\n"
     ]
    }
   ],
   "source": [
    "flesch_kincaid = []\n",
    "count = 0\n",
    "\n",
    "for article in news:\n",
    "    r = Readability(article.text)\n",
    "    try:\n",
    "        flesch_kincaid.append(r.flesch().score)\n",
    "    except:\n",
    "        count += 1\n",
    "print(count)"
   ]
  },
  {
   "cell_type": "code",
   "execution_count": 84,
   "metadata": {},
   "outputs": [
    {
     "name": "stdout",
     "output_type": "stream",
     "text": [
      "5228\n"
     ]
    }
   ],
   "source": [
    "flesch = []\n",
    "count = 0\n",
    "\n",
    "for article in news:\n",
    "    r = Readability(article.text)\n",
    "    try:\n",
    "        flesch.append(r.flesch().score)\n",
    "    except:\n",
    "        count += 1\n",
    "print(count)"
   ]
  },
  {
   "cell_type": "code",
   "execution_count": 85,
   "metadata": {},
   "outputs": [
    {
     "name": "stdout",
     "output_type": "stream",
     "text": [
      "Flesch-Kincaid Grade Level: 3.83\n",
      "Flesch Reading Ease: 80.74\n",
      "Dale-Chall Readability: 7.45\n",
      "Automated Readability Index (ARI): 2.81\n",
      "Coleman-Liau Index: 5.82\n",
      "Gunning-Fog Index: 4.81\n",
      "SPACHE: 4.29\n",
      "Linsear Write: 3.39\n"
     ]
    }
   ],
   "source": [
    "r = Readability(news[0].text)\n",
    "readability_measures = {\"Flesch-Kincaid Grade Level\": r.flesch_kincaid().score,\n",
    "                       \"Flesch Reading Ease\": r.flesch().score,\n",
    "                       \"Dale-Chall Readability\": r.dale_chall().score, \n",
    "                       \"Automated Readability Index (ARI)\": r.ari().score,\n",
    "                       \"Coleman-Liau Index\": r.coleman_liau().score,\n",
    "                       \"Gunning-Fog Index\": r.gunning_fog().score,\n",
    "                       \"SPACHE\": r.spache().score,\n",
    "                       \"Linsear Write\": r.linsear_write().score}\n",
    "for k, v in readability_measures.items():\n",
    "    print(f\"{k}: {v:.2f}\")"
   ]
  },
  {
   "cell_type": "code",
   "execution_count": 86,
   "metadata": {},
   "outputs": [
    {
     "name": "stdout",
     "output_type": "stream",
     "text": [
      "Flesch-Kincaid Grade Level: 7.97\n",
      "Flesch Reading Ease: 66.98\n",
      "Dale-Chall Readability: 8.03\n",
      "Automated Readability Index (ARI): 8.66\n",
      "Coleman-Liau Index: 9.41\n",
      "Gunning-Fog Index: 8.73\n",
      "SPACHE: 5.86\n",
      "Linsear Write: 10.05\n"
     ]
    }
   ],
   "source": [
    "r = Readability(news[3267].text)\n",
    "readability_measures = {\"Flesch-Kincaid Grade Level\": r.flesch_kincaid().score,\n",
    "                       \"Flesch Reading Ease\": r.flesch().score,\n",
    "                       \"Dale-Chall Readability\": r.dale_chall().score, \n",
    "                       \"Automated Readability Index (ARI)\": r.ari().score,\n",
    "                       \"Coleman-Liau Index\": r.coleman_liau().score,\n",
    "                       \"Gunning-Fog Index\": r.gunning_fog().score,\n",
    "                       \"SPACHE\": r.spache().score,\n",
    "                       \"Linsear Write\": r.linsear_write().score}\n",
    "for k, v in readability_measures.items():\n",
    "    print(f\"{k}: {v:.2f}\")"
   ]
  },
  {
   "cell_type": "code",
   "execution_count": 87,
   "metadata": {},
   "outputs": [
    {
     "name": "stdout",
     "output_type": "stream",
     "text": [
      "Flesch-Kincaid Grade Level: 13.35\n",
      "Flesch Reading Ease: 38.46\n",
      "Dale-Chall Readability: 9.78\n",
      "Automated Readability Index (ARI): 14.33\n",
      "Coleman-Liau Index: 13.27\n",
      "Gunning-Fog Index: 13.52\n",
      "SPACHE: 7.87\n",
      "Linsear Write: 15.81\n"
     ]
    }
   ],
   "source": [
    "r = Readability(news[3267+3266].text)\n",
    "readability_measures = {\"Flesch-Kincaid Grade Level\": r.flesch_kincaid().score,\n",
    "                       \"Flesch Reading Ease\": r.flesch().score,\n",
    "                       \"Dale-Chall Readability\": r.dale_chall().score, \n",
    "                       \"Automated Readability Index (ARI)\": r.ari().score,\n",
    "                       \"Coleman-Liau Index\": r.coleman_liau().score,\n",
    "                       \"Gunning-Fog Index\": r.gunning_fog().score,\n",
    "                       \"SPACHE\": r.spache().score,\n",
    "                       \"Linsear Write\": r.linsear_write().score}\n",
    "for k, v in readability_measures.items():\n",
    "    print(f\"{k}: {v:.2f}\")"
   ]
  },
  {
   "cell_type": "markdown",
   "metadata": {},
   "source": [
    "## Vocabulary"
   ]
  },
  {
   "cell_type": "code",
   "execution_count": 11,
   "metadata": {},
   "outputs": [],
   "source": [
    "import pandas as pd\n",
    "import matplotlib.pyplot as plt\n",
    "import seaborn as sns"
   ]
  },
  {
   "cell_type": "code",
   "execution_count": 12,
   "metadata": {},
   "outputs": [],
   "source": [
    "def word_counts(dataset):\n",
    "    text_lens = []\n",
    "    for text in dataset:\n",
    "        text_len = 0\n",
    "        for w in text:\n",
    "            if w.is_alpha:\n",
    "                text_len += 1\n",
    "        text_lens.append(text_len)\n",
    "    return text_lens"
   ]
  },
  {
   "cell_type": "code",
   "execution_count": 13,
   "metadata": {},
   "outputs": [],
   "source": [
    "def sentence_counts(dataset):\n",
    "    text_lens = []\n",
    "    for text in dataset:\n",
    "        text_lens.append(len(list(text.sents)))\n",
    "    return text_lens"
   ]
  },
  {
   "cell_type": "code",
   "execution_count": 14,
   "metadata": {},
   "outputs": [],
   "source": [
    "def counts_info(dataset, dataset_name):\n",
    "    print(dataset_name)\n",
    "    d = {\"Number of words\": pd.Series(word_counts(dataset)),\n",
    "        \"Number of sentences\": pd.Series(sentence_counts(dataset))}\n",
    "    df_stats = pd.DataFrame(d)\n",
    "    print(df_stats.describe())\n",
    "    \n",
    "    for col in d:\n",
    "        ax = sns.boxplot(x=df_stats[col])\n",
    "        plt.show()\n",
    "    \n",
    "    return df_stats"
   ]
  },
  {
   "cell_type": "code",
   "execution_count": 15,
   "metadata": {},
   "outputs": [
    {
     "name": "stdout",
     "output_type": "stream",
     "text": [
      "newsinlevels\n",
      "       Number of words  Number of sentences\n",
      "count      9817.000000          9817.000000\n",
      "mean         99.316594             8.588367\n",
      "std          40.136460             3.784480\n",
      "min          20.000000             1.000000\n",
      "25%          70.000000             6.000000\n",
      "50%          94.000000             8.000000\n",
      "75%         121.000000            11.000000\n",
      "max         484.000000            44.000000\n"
     ]
    },
    {
     "data": {
      "image/png": "[encoded data removed]",
      "text/plain": [
       "<Figure size 432x288 with 1 Axes>"
      ]
     },
     "metadata": {
      "needs_background": "light"
     },
     "output_type": "display_data"
    },
    {
     "data": {
      "image/png": "[encoded data removed]",
      "text/plain": [
       "<Figure size 432x288 with 1 Axes>"
      ]
     },
     "metadata": {
      "needs_background": "light"
     },
     "output_type": "display_data"
    }
   ],
   "source": [
    "news_count_stats = counts_info(news, \"newsinlevels\")"
   ]
  },
  {
   "cell_type": "code",
   "execution_count": 16,
   "metadata": {},
   "outputs": [
    {
     "name": "stdout",
     "output_type": "stream",
     "text": [
      "daysinlevels\n",
      "       Number of words  Number of sentences\n",
      "count       477.000000           477.000000\n",
      "mean        159.280922            16.020964\n",
      "std          46.060390             5.171795\n",
      "min          58.000000             6.000000\n",
      "25%         126.000000            12.000000\n",
      "50%         155.000000            15.000000\n",
      "75%         186.000000            19.000000\n",
      "max         323.000000            41.000000\n"
     ]
    },
    {
     "data": {
      "image/png": "[encoded data removed]",
      "text/plain": [
       "<Figure size 432x288 with 1 Axes>"
      ]
     },
     "metadata": {
      "needs_background": "light"
     },
     "output_type": "display_data"
    },
    {
     "data": {
      "image/png": "[encoded data removed]",
      "text/plain": [
       "<Figure size 432x288 with 1 Axes>"
      ]
     },
     "metadata": {
      "needs_background": "light"
     },
     "output_type": "display_data"
    }
   ],
   "source": [
    "days_count_stats = counts_info(days, \"daysinlevels\")"
   ]
  },
  {
   "cell_type": "code",
   "execution_count": null,
   "metadata": {},
   "outputs": [],
   "source": []
  }
 ],
 "metadata": {
  "kernelspec": {
   "display_name": "Python 3",
   "language": "python",
   "name": "python3"
  },
  "language_info": {
   "codemirror_mode": {
    "name": "ipython",
    "version": 3
   },
   "file_extension": ".py",
   "mimetype": "text/x-python",
   "name": "python",
   "nbconvert_exporter": "python",
   "pygments_lexer": "ipython3",
   "version": "3.7.4"
  }
 },
 "nbformat": 4,
 "nbformat_minor": 2
}
