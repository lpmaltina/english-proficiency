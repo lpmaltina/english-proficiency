{
 "cells": [
  {
   "cell_type": "markdown",
   "metadata": {},
   "source": [
    "# Exploratory data analysis"
   ]
  },
  {
   "cell_type": "code",
   "execution_count": 1,
   "metadata": {},
   "outputs": [],
   "source": [
    "from parse_data import TextsinlevelsDB"
   ]
  },
  {
   "cell_type": "code",
   "execution_count": 2,
   "metadata": {},
   "outputs": [],
   "source": [
    "textsinlevels = TextsinlevelsDB(db_name=\"textsinlevels\")\n",
    "news = textsinlevels.write_from_table_to_df(\"newsinlevels\")\n",
    "days = textsinlevels.write_from_table_to_df(\"daysinlevels\")\n",
    "del textsinlevels"
   ]
  },
  {
   "cell_type": "code",
   "execution_count": 3,
   "metadata": {},
   "outputs": [],
   "source": [
    "def print_general_info(df):\n",
    "    print(df.head())\n",
    "    print()\n",
    "    print(\"The number of texts:\", df.shape[0])\n",
    "    print(f\"The number of texts for each level:\\n{df['level'].value_counts().sort_index()}\")"
   ]
  },
  {
   "cell_type": "code",
   "execution_count": 4,
   "metadata": {},
   "outputs": [
    {
     "name": "stdout",
     "output_type": "stream",
     "text": [
      "               date                           heading  \\\n",
      "0  10-01-2022 07:00            Famous couples in 2021   \n",
      "1  08-01-2022 12:00         How to Use News in Levels   \n",
      "2  07-01-2022 15:00  Fire at South African parliament   \n",
      "3  07-01-2022 07:00               Israel attacks Gaza   \n",
      "4  06-01-2022 15:00            Man gives food to dogs   \n",
      "\n",
      "                                        article_text  level  \n",
      "0  Many famous couples break up last year. Many f...      1  \n",
      "1  News in Levels helps students learn English. D...      1  \n",
      "2  A fire starts in the parliament building in Ca...      1  \n",
      "3  Hamas is a militant group in Gaza. It fights w...      1  \n",
      "4  A man from Jordan loves animals a lot. He help...      1  \n",
      "\n",
      "The number of texts: 9798\n",
      "The number of texts for each level:\n",
      "1    3266\n",
      "2    3266\n",
      "3    3266\n",
      "Name: level, dtype: int64\n"
     ]
    }
   ],
   "source": [
    "print_general_info(news)"
   ]
  },
  {
   "cell_type": "code",
   "execution_count": 5,
   "metadata": {},
   "outputs": [
    {
     "name": "stdout",
     "output_type": "stream",
     "text": [
      "         date                                            heading  \\\n",
      "0  09-01-1959        The day Fidel Castro took control over Cuba   \n",
      "1  05-01-1933  The day the Golden Gate Bridge construction st...   \n",
      "2  26-12-2004         The day of the tsunami in the Indian Ocean   \n",
      "3  25-12-1979            The day the Soviets invaded Afghanistan   \n",
      "4  24-12-1914               The day the enemies met at Christmas   \n",
      "\n",
      "                                        article_text  level  \n",
      "0  It is 1956. Fidel Castro wants a revolution in...      1  \n",
      "1  The Golden Gate Bridge is a symbol of San Fran...      1  \n",
      "2  It is Sunday morning. It is December 26, 2004....      1  \n",
      "3  It is December 25, 1979. Three hundred planes ...      1  \n",
      "4  In 1914, World War I starts in Europe. The ene...      1  \n",
      "\n",
      "The number of texts: 468\n",
      "The number of texts for each level:\n",
      "1    156\n",
      "2    156\n",
      "3    156\n",
      "Name: level, dtype: int64\n"
     ]
    }
   ],
   "source": [
    "print_general_info(days)"
   ]
  },
  {
   "cell_type": "code",
   "execution_count": null,
   "metadata": {},
   "outputs": [],
   "source": []
  }
 ],
 "metadata": {
  "kernelspec": {
   "display_name": "Python 3",
   "language": "python",
   "name": "python3"
  },
  "language_info": {
   "codemirror_mode": {
    "name": "ipython",
    "version": 3
   },
   "file_extension": ".py",
   "mimetype": "text/x-python",
   "name": "python",
   "nbconvert_exporter": "python",
   "pygments_lexer": "ipython3",
   "version": "3.7.4"
  }
 },
 "nbformat": 4,
 "nbformat_minor": 2
}
