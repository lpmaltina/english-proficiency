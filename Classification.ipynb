{
 "cells": [
  {
   "cell_type": "code",
   "execution_count": 1,
   "metadata": {},
   "outputs": [],
   "source": [
    "import warnings\n",
    "warnings.filterwarnings('ignore')"
   ]
  },
  {
   "cell_type": "code",
   "execution_count": 2,
   "metadata": {},
   "outputs": [],
   "source": [
    "import math\n",
    "import numpy as np\n",
    "import pandas as pd\n",
    "import matplotlib.pyplot as plt\n",
    "import spacy\n",
    "from wordfreq import zipf_frequency\n",
    "import seaborn as sns\n",
    "import os\n",
    "import pickle\n",
    "import json\n",
    "import joblib\n",
    "from tqdm.notebook import tqdm"
   ]
  },
  {
   "cell_type": "code",
   "execution_count": 3,
   "metadata": {},
   "outputs": [],
   "source": [
    "from parse_data import TextsinlevelsDB"
   ]
  },
  {
   "cell_type": "code",
   "execution_count": 4,
   "metadata": {},
   "outputs": [],
   "source": [
    "model = \"en_core_web_lg\"\n",
    "nlp = spacy.load(model)"
   ]
  },
  {
   "cell_type": "code",
   "execution_count": 5,
   "metadata": {},
   "outputs": [],
   "source": [
    "textsinlevels = TextsinlevelsDB(db_name=\"textsinlevels\")\n",
    "df_news = textsinlevels.write_from_table_to_df(\"newsinlevels\")\n",
    "df_days = textsinlevels.write_from_table_to_df(\"daysinlevels\")\n",
    "del textsinlevels"
   ]
  },
  {
   "cell_type": "code",
   "execution_count": 6,
   "metadata": {},
   "outputs": [],
   "source": [
    "LEVELS = (\"A1\", \"A2\", \"B1\", \"B2\", \"C1\", \"C2\")"
   ]
  },
  {
   "cell_type": "code",
   "execution_count": 7,
   "metadata": {},
   "outputs": [],
   "source": [
    "class Text:\n",
    "    def __init__(self, tokens):\n",
    "        self.tokens = tokens\n",
    "        self.lemmas = self.lemmatize()\n",
    "        self.dependencies = self.get_dependencies()\n",
    "\n",
    "    def lemmatize(self):\n",
    "        return [token.lemma_.lower() for token in self.tokens\n",
    "                if token.is_alpha]\n",
    "\n",
    "    def count_words(self):\n",
    "        n_words = 0\n",
    "        for token in self.tokens:\n",
    "            if token.is_alpha:\n",
    "                n_words += 1\n",
    "        return n_words\n",
    "\n",
    "    def count_sentences(self):\n",
    "        n_sentences = 0\n",
    "        for sent in self.tokens.sents:\n",
    "            n_sentences += 1\n",
    "        return n_sentences\n",
    "\n",
    "    def count_type_token_ratio(self):\n",
    "        return len(set(self.lemmas)) / len(self.lemmas)\n",
    "\n",
    "    def count_words_from_wordlist(self, wordlist):\n",
    "        words_from_wordlists = 0\n",
    "\n",
    "        for lemma in self.lemmas:\n",
    "            if lemma in wordlist:\n",
    "                words_from_wordlists += 1\n",
    "\n",
    "        return words_from_wordlists / len(self.lemmas)\n",
    "\n",
    "    def count_words_from_level_lists(self, word2level):\n",
    "        level_freqs = {level: 0 for level in LEVELS}\n",
    "\n",
    "        for lemma in self.lemmas:\n",
    "            level = word2level.get(lemma)\n",
    "            if level:\n",
    "                level_freqs[level] += 1\n",
    "\n",
    "        for level in level_freqs:\n",
    "            level_freqs[level] /= len(self.lemmas)\n",
    "\n",
    "        return level_freqs\n",
    "\n",
    "    def count_zipf_freqs(self):\n",
    "        zipf_freqs = {}\n",
    "\n",
    "        for lemma in self.lemmas:\n",
    "            zipf_freq = math.floor(zipf_frequency(lemma, \"en\"))\n",
    "            if zipf_freq in zipf_freqs:\n",
    "                zipf_freqs[zipf_freq] += 1\n",
    "            else:\n",
    "                zipf_freqs[zipf_freq] = 1\n",
    "\n",
    "        for zipf_freq in zipf_freqs:\n",
    "            zipf_freqs[zipf_freq] /= len(self.lemmas)\n",
    "\n",
    "        return zipf_freqs\n",
    "\n",
    "    def get_pos(self):\n",
    "        return \" \".join([token.pos_ for token in self.tokens if token.is_alpha])\n",
    "\n",
    "    def get_dependencies(self):\n",
    "        return \" \".join([token.dep_ for token in self.tokens if token.is_alpha])\n",
    "\n",
    "    def count_mean_noun_chunk_len(self):\n",
    "        noun_chunks = list(self.tokens.noun_chunks)\n",
    "        len_noun_chunks = [len(noun_chunk) for noun_chunk in noun_chunks]\n",
    "        return sum(len_noun_chunks) / len(noun_chunks)\n",
    "\n",
    "    def count_passiveness(self):\n",
    "        active = 0\n",
    "        passive = 0\n",
    "\n",
    "        for dep in self.dependencies:\n",
    "            if dep in {'aux', 'csubj', 'nsubj'}:\n",
    "                active += 1\n",
    "            elif dep in {'aux_pass', 'csubjpass', 'nsubjpass'}:\n",
    "                passive += 1\n",
    "\n",
    "        passiveness = 0\n",
    "\n",
    "        if passive + active > 0:\n",
    "            passiveness = passive / (active + passive)\n",
    "\n",
    "        return passiveness\n",
    "\n",
    "    def count_mean_num_dependencies(self):\n",
    "        num_dependencies = 0\n",
    "        for token in self.tokens:\n",
    "            if token.is_alpha:\n",
    "                for child in token.children:\n",
    "                    if child.is_alpha:\n",
    "                        num_dependencies += 1\n",
    "        return num_dependencies / len(self.dependencies)\n",
    "\n",
    "    def count_mean_arc_len(self):\n",
    "        sum_arc_len = 0\n",
    "        n_arcs = 0\n",
    "        for token in self.tokens:\n",
    "            if token.is_alpha:\n",
    "                for child in token.children:\n",
    "                    if child.is_alpha:\n",
    "                        sum_arc_len += abs(token.i - child.i) - 1\n",
    "                        n_arcs += 1\n",
    "        return sum_arc_len / n_arcs\n",
    "\n",
    "    def create_df(self, abstract_nouns, concrete_nouns, word2level):\n",
    "        dct = {\"words\": [\" \".join(self.lemmas)],\n",
    "               \"word_count\": [self.count_words()],\n",
    "               \"type_token_ratio\": [self.count_type_token_ratio()],\n",
    "               \"abstract_nouns\": [self.count_words_from_wordlist(abstract_nouns)],\n",
    "               \"concrete_nouns\": [self.count_words_from_wordlist(concrete_nouns)],\n",
    "               \"pos\": [self.get_pos()],\n",
    "               \"dep\": [self.get_dependencies()],\n",
    "               \"mean_noun_chunk_len\": [self.count_mean_noun_chunk_len()],\n",
    "               \"passiveness\": [self.count_passiveness()],\n",
    "               \"mean_num_dependencies\": [self.count_mean_num_dependencies()],\n",
    "               \"mean_arc_len\": [self.count_mean_arc_len()]}\n",
    "\n",
    "        zipf_freqs = self.count_zipf_freqs()\n",
    "\n",
    "        for i in range(1, 7):\n",
    "            dct[f\"zipf_freqs_{i}\"] = zipf_freqs.get(i, 0)\n",
    "\n",
    "        levels = self.count_words_from_level_lists(word2level)\n",
    "        for level in LEVELS:\n",
    "            dct[level] = [levels[level]]\n",
    "\n",
    "        df = pd.DataFrame(dct)\n",
    "        return df"
   ]
  },
  {
   "cell_type": "code",
   "execution_count": 8,
   "metadata": {},
   "outputs": [],
   "source": [
    "class TextDataset:\n",
    "    def __init__(self, dataset, dataset_name, nlp, preprocess):\n",
    "        self.dataset_name = dataset_name\n",
    "        self.dataset = dataset\n",
    "        if preprocess:\n",
    "            docs = spacy.tokens.DocBin(store_user_data=False)\n",
    "            for doc in nlp.pipe(tqdm(self.dataset[\"article_text\"])):\n",
    "                docs.add(doc)\n",
    "            docs.to_disk(self.dataset_name)\n",
    "        else:\n",
    "            docs = spacy.tokens.DocBin().from_disk(self.dataset_name)\n",
    "        self.texts = [Text(doc) for doc in docs.get_docs(spacy.blank(\"en\").vocab)]\n",
    "    \n",
    "    def count_words(self):\n",
    "        return [text.count_words() for text in self.texts]\n",
    "    \n",
    "    def count_sentences(self):\n",
    "        return [text.count_sentences() for text in self.texts]\n",
    "    \n",
    "    def lemmatize(self):\n",
    "        return [text.lemmatize() for text in self.texts]\n",
    "    \n",
    "    def count_type_token_ratio(self):\n",
    "        return [text.count_type_token_ratio() for text in self.texts]\n",
    "    \n",
    "    def count_words_from_wordlist(self, wordlist):\n",
    "        return [text.count_words_from_wordlist(wordlist) for text in self.texts]\n",
    "    \n",
    "    def count_words_from_level_lists(self, word2level):\n",
    "        return [text.count_words_from_level_lists(word2level) for text in self.texts]\n",
    "        \n",
    "    def count_zipf_freqs(self):\n",
    "        return [text.count_zipf_freqs() for text in self.texts]\n",
    "                \n",
    "    def show_counts_info(self):\n",
    "        print(self.dataset_name)\n",
    "        d = {\"Number of words\": self.count_words(),\n",
    "            \"Number of sentences\": self.count_sentences()}\n",
    "        df_stats = pd.DataFrame(d)\n",
    "        print(df_stats.describe())\n",
    "\n",
    "        f = plt.figure(figsize=(10, 4))\n",
    "        plt.suptitle(self.dataset_name)\n",
    "        gs = f.add_gridspec(1, 2)\n",
    "\n",
    "        for i, col in enumerate(d):\n",
    "            ax = f.add_subplot(gs[0, i])\n",
    "            ax = sns.distplot(df_stats[col], bins=20)\n",
    "\n",
    "        plt.show()\n",
    "        f.savefig(f\"{self.dataset_name}-words_sentences_counts.png\")\n",
    "    \n",
    "    def get_pos(self):\n",
    "        return [text.get_pos() for text in self.texts]\n",
    "    \n",
    "    def get_dependencies(self):\n",
    "        return [text.get_dependencies() for text in self.texts]\n",
    "    \n",
    "    def count_mean_noun_chunk_len(self):\n",
    "        return [text.count_mean_noun_chunk_len() for text in self.texts]\n",
    "    \n",
    "    def count_passiveness(self):\n",
    "        return [text.count_passiveness() for text in self.texts]\n",
    "    \n",
    "    def count_mean_num_dependencies(self):\n",
    "        return [text.count_mean_num_dependencies() for text in self.texts]\n",
    "    \n",
    "    def count_mean_arc_len(self):\n",
    "        return [text.count_mean_arc_len() for text in self.texts]\n",
    "    \n",
    "    def create_df(self, abstract_nouns, concrete_nouns):\n",
    "        dct = {\"words\": [\" \".join(self.texts[i].lemmas) for i in range(len(self.texts))],\n",
    "               \"word_count\": self.count_words(),\n",
    "               \"type_token_ratio\": self.count_type_token_ratio(),\n",
    "               \"abstract_nouns\": self.count_words_from_wordlist(abstract_nouns),\n",
    "               \"concrete_nouns\": self.count_words_from_wordlist(concrete_nouns),\n",
    "               \"pos\": self.get_pos(),\n",
    "               \"dep\": self.get_dependencies(),\n",
    "               \"mean_noun_chunk_len\": self.count_mean_noun_chunk_len(),\n",
    "               \"passiveness\": self.count_passiveness(),\n",
    "               \"mean_num_dependencies\": self.count_mean_num_dependencies(),\n",
    "               \"mean_arc_len\": self.count_mean_arc_len(),\n",
    "               \"level\": self.dataset[\"level\"]}\n",
    "                       \n",
    "        zipf_freqs = self.count_zipf_freqs()\n",
    "        \n",
    "        for i in range(1, 7):\n",
    "            dct[f\"zipf_freqs_{i}\"] = [dct.get(i, 0) for dct in zipf_freqs]\n",
    "        \n",
    "        for level in LEVELS:\n",
    "            dct[level] = [dct[level] for dct in self.count_words_from_level_lists(word2level)]\n",
    "        \n",
    "        df = pd.DataFrame(dct)\n",
    "        return df"
   ]
  },
  {
   "cell_type": "code",
   "execution_count": 11,
   "metadata": {},
   "outputs": [],
   "source": [
    "def preprocess_word_list(wordlist):\n",
    "    with open(os.path.join(\"wordlists\", f\"{wordlist}.txt\"), encoding=\"utf-8\") as f:\n",
    "        words_from_list = f.read().split(\"\\n\")\n",
    "        \n",
    "    words_from_list = \" \".join([w for w in words_from_list if \" \" not in w and \"-\" not in w])\n",
    "    words_from_list = nlp(words_from_list)\n",
    "    words_from_list = set(w.lemma_.lower() for w in words_from_list)\n",
    "    \n",
    "    directory = \"serialized\"\n",
    "    if not os.path.exists(directory):\n",
    "        os.makedirs(directory)\n",
    "    \n",
    "    with open(os.path.join(directory, f\"{wordlist}.pkl\"), \"wb\") as f:\n",
    "        pickle.dump(words_from_list, f)"
   ]
  },
  {
   "cell_type": "code",
   "execution_count": 12,
   "metadata": {},
   "outputs": [],
   "source": [
    "for wordlist in (\"abstract_nouns\", \"concrete_nouns\"):\n",
    "    preprocess_word_list(wordlist)"
   ]
  },
  {
   "cell_type": "code",
   "execution_count": 13,
   "metadata": {},
   "outputs": [],
   "source": [
    "def create_word2level_dct():\n",
    "    dct = {}\n",
    "    df = pd.read_csv(os.path.join(\"wordlists\", \"Vocabulary Framework – British English.csv\"))\n",
    "    sub_df = df[[\"Base Word\", \"Level\"]]\n",
    "    sub_df_min = sub_df.groupby(\"Base Word\").min()\n",
    "    for d, data in sub_df_min.reset_index().groupby(\"Level\"):\n",
    "        dct[d] = list(data[\"Base Word\"])\n",
    "    \n",
    "    word2level = {}\n",
    "    for level, words in dct.items():\n",
    "        for i in range(len(words)):\n",
    "            if ' ' not in words[i]:\n",
    "                word2level[words[i].lower()] = level\n",
    "                \n",
    "    directory = \"serialized\"\n",
    "    if not os.path.exists(directory):\n",
    "        os.makedirs(directory)\n",
    "    \n",
    "    with open(os.path.join(\"serialized\", \"word2level.json\"), \"w\") as f:\n",
    "        f.write(json.dumps(word2level))"
   ]
  },
  {
   "cell_type": "code",
   "execution_count": 14,
   "metadata": {},
   "outputs": [],
   "source": [
    "create_word2level_dct()"
   ]
  },
  {
   "cell_type": "code",
   "execution_count": 19,
   "metadata": {},
   "outputs": [],
   "source": [
    "with open(os.path.join(\"serialized\", \"abstract_nouns.pkl\"), \"rb\") as f:\n",
    "    abstract_nouns = pickle.load(f)\n",
    "with open(os.path.join(\"serialized\", \"concrete_nouns.pkl\"), \"rb\") as f:\n",
    "    concrete_nouns = pickle.load(f)\n",
    "with open(os.path.join(\"serialized\", \"word2level.json\"), \"r\") as f:\n",
    "    word2level = json.load(f)"
   ]
  },
  {
   "cell_type": "code",
   "execution_count": 20,
   "metadata": {},
   "outputs": [],
   "source": [
    "news = TextDataset(dataset=df_news, dataset_name=\"news\", nlp=nlp, preprocess=False)\n",
    "days = TextDataset(dataset=df_days, dataset_name=\"days\", nlp=nlp, preprocess=False)\n",
    "\n",
    "news_df = news.create_df(abstract_nouns, concrete_nouns)\n",
    "days_df = days.create_df(abstract_nouns, concrete_nouns)\n",
    "\n",
    "news_df['level'] = news_df['level'].map({1:0, 2:1, 3:2}) \n",
    "Y = news_df[\"level\"]\n",
    "X = news_df.drop(columns=[\"level\"])"
   ]
  },
  {
   "cell_type": "code",
   "execution_count": 21,
   "metadata": {},
   "outputs": [],
   "source": [
    "from sklearn.base import BaseEstimator, TransformerMixin\n",
    "from sklearn.compose import ColumnTransformer\n",
    "from sklearn.feature_extraction.text import TfidfVectorizer, CountVectorizer\n",
    "from sklearn.model_selection import StratifiedKFold\n",
    "from sklearn.preprocessing import MaxAbsScaler\n",
    "from sklearn.model_selection import train_test_split\n",
    "from sklearn.pipeline import Pipeline\n",
    "from sklearn.linear_model import LogisticRegression\n",
    "from sklearn.svm import LinearSVC\n",
    "from sklearn.tree import DecisionTreeClassifier\n",
    "from sklearn.ensemble import AdaBoostClassifier\n",
    "from sklearn.ensemble import RandomForestClassifier\n",
    "from sklearn.ensemble import ExtraTreesClassifier\n",
    "from lightgbm import LGBMClassifier\n",
    "from sklearn.metrics import accuracy_score, f1_score, confusion_matrix\n",
    "from sklearn.model_selection import GridSearchCV\n",
    "import mord"
   ]
  },
  {
   "cell_type": "code",
   "execution_count": 22,
   "metadata": {},
   "outputs": [],
   "source": [
    "class MyTfidfVectorizer(TfidfVectorizer):\n",
    "\n",
    "    def fit_transform(self, raw_documents, y=None):\n",
    "        X = TfidfVectorizer.fit_transform(self, raw_documents, y=None)\n",
    "        return X / X.sum(axis=1)\n",
    "\n",
    "    def transform(self, raw_documents):\n",
    "        X = TfidfVectorizer.transform(self, raw_documents)\n",
    "        return X / X.sum(axis=1)"
   ]
  },
  {
   "cell_type": "code",
   "execution_count": 23,
   "metadata": {},
   "outputs": [],
   "source": [
    "def visualize_coefs(estimator, n_top_features, filename):\n",
    "     \n",
    "    coef = estimator[-1].coef_\n",
    "    n_classes = coef.shape[0]\n",
    "    feature_names = np.array(estimator.named_steps['vectorizer'].get_feature_names())\n",
    "    print(len(feature_names))\n",
    "    \n",
    "\n",
    "    for n in range(n_classes):\n",
    "        print('class', n)\n",
    "        coefs = np.argsort(coef[n])\n",
    "        \n",
    "        if len(feature_names) > 2 * n_top_features:\n",
    "            # индексы признаков, получивших cамые большие положительные коэффициенты\n",
    "            pos_coefs = coefs[-n_top_features:]\n",
    "\n",
    "            # индексы признаков, получивших самые низкие отрицательные коэффициенты\n",
    "            neg_coefs = coefs[:n_top_features]\n",
    "\n",
    "            interesting_coefs = np.hstack([neg_coefs, pos_coefs])\n",
    "\n",
    "            plt.figure(figsize=(9, 3))\n",
    "            colors = [\"red\" if c < 0 else \"green\" for c in coef[n][interesting_coefs]]\n",
    "            plt.bar(np.arange(2 * n_top_features), coef[n][interesting_coefs], color=colors)\n",
    "            plt.xticks(np.arange(2 * n_top_features), feature_names[interesting_coefs], rotation=90, ha=\"right\")\n",
    "        else:\n",
    "            colors = [\"red\" if c < 0 else \"green\" for c in coef[n][coefs]]\n",
    "            plt.bar(np.arange(len(feature_names)), coef[n][coefs], color=colors)\n",
    "            plt.xticks(np.arange(len(feature_names)), feature_names[coefs], rotation=90, ha=\"right\")\n",
    "            \n",
    "        plt.savefig(f\"{filename}_class{n}.png\", bbox_inches=\"tight\")\n",
    "        plt.show()"
   ]
  },
  {
   "cell_type": "code",
   "execution_count": 24,
   "metadata": {},
   "outputs": [],
   "source": [
    "def visualize_feature_importances(estimator, n_top_features, filename):\n",
    "    coef = estimator[-1].feature_importances_\n",
    "    feature_names = np.array(estimator.named_steps[\"vectorizer\"].get_feature_names())\n",
    "    word_importances = pd.Series(coef, index=feature_names).sort_values(ascending=False)[:10]\n",
    "    word_importances.plot(kind=\"bar\")\n",
    "    plt.tight_layout()\n",
    "    plt.savefig(f\"{filename}.png\", bbox_inches=\"tight\")\n",
    "    plt.show()"
   ]
  },
  {
   "cell_type": "code",
   "execution_count": 25,
   "metadata": {},
   "outputs": [],
   "source": [
    "class PassthroughTransformer(BaseEstimator, TransformerMixin):\n",
    "\n",
    "    def fit(self, X, y=None):\n",
    "        return self\n",
    "\n",
    "    def transform(self, X):\n",
    "        self.X = X\n",
    "        return X\n",
    "\n",
    "    def get_feature_names(self):\n",
    "        return self.X.columns.tolist()"
   ]
  },
  {
   "cell_type": "code",
   "execution_count": 26,
   "metadata": {},
   "outputs": [],
   "source": [
    "def quality(y_actual, y_pred):\n",
    "    acc = accuracy_score(y_actual, y_pred)\n",
    "    f1 = f1_score(y_actual, y_pred, average=\"macro\")\n",
    "    print(f\"Accuracy: {acc:.4f}\\nF1 macro: {f1:.4f}\")\n",
    "    \n",
    "    cm = confusion_matrix(y_actual, y_pred)\n",
    "    sns.heatmap(cm, annot=True, fmt=\"d\", annot_kws={\"size\": 16})\n",
    "    plt.ylabel(\"True\")\n",
    "    plt.xlabel(\"Predicted\")\n",
    "    plt.show()\n",
    "\n",
    "    return acc, f1"
   ]
  },
  {
   "cell_type": "code",
   "execution_count": 27,
   "metadata": {},
   "outputs": [],
   "source": [
    "scaler = MaxAbsScaler()\n",
    "vectorizer = MyTfidfVectorizer()"
   ]
  },
  {
   "cell_type": "code",
   "execution_count": 28,
   "metadata": {},
   "outputs": [],
   "source": [
    "lr = LogisticRegression(solver=\"liblinear\")\n",
    "svm = LinearSVC()\n",
    "tree = DecisionTreeClassifier()\n",
    "adaboost = AdaBoostClassifier()\n",
    "random_forest = RandomForestClassifier()\n",
    "extra_trees = ExtraTreesClassifier()\n",
    "lgbm = LGBMClassifier()\n",
    "logistic_at = mord.LogisticAT()\n",
    "logistic_it = mord.LogisticIT()\n",
    "logistic_se = mord.LogisticSE()\n",
    "ordinal_ridge = mord.OrdinalRidge()\n",
    "lad = mord.LAD()"
   ]
  },
  {
   "cell_type": "code",
   "execution_count": 29,
   "metadata": {},
   "outputs": [],
   "source": [
    "lr_params_lex = dict(vectorizer__word__min_df=[3, 5, 7], lr__C=[0.1, 0.5, 1], lr__penalty=[\"l1\", \"l2\"])\n",
    "svm_params_lex = dict(vectorizer__word__min_df=[3, 5, 7], svm__C=[0.01, 0.1, 1])\n",
    "tree_params_lex = dict(vectorizer__word__min_df=[3, 5, 7], tree__max_depth=[None, 7, 10],\n",
    "                tree__min_samples_leaf=[1, 10])\n",
    "adaboost_params_lex = dict(vectorizer__word__min_df=[3, 5, 7], adaboost__base_estimator=[DecisionTreeClassifier(max_depth=1),\n",
    "                        DecisionTreeClassifier(max_depth=2)])\n",
    "random_forest_params_lex = dict(vectorizer__word__min_df=[3, 5, 7], random_forest__max_depth=[None, 10],\n",
    "                       random_forest__min_samples_leaf=[1, 5])\n",
    "extra_trees_params_lex = dict(vectorizer__word__min_df=[3, 5, 7], extra_trees__max_depth=[None, 15],\n",
    "                       extra_trees__min_samples_leaf=[1, 15])\n",
    "lgbm_params_lex = dict(vectorizer__word__min_df=[3, 5, 7], lgbm__min_split_gain=[0, 0.5], lgbm__colsample_bytree=[0.25, 0.5, 1])\n",
    "logistic_at_params_lex = dict(vectorizer__word__min_df=[3, 5, 7], logistic_at__alpha=[0.5, 1, 5])\n",
    "logistic_it_params_lex = dict(vectorizer__word__min_df=[3, 5, 7], logistic_it__alpha=[0.5, 1, 5])\n",
    "logistic_se_params_lex = dict(vectorizer__word__min_df=[3, 5, 7], logistic_se__alpha=[0.5, 1, 5])\n",
    "ordinal_ridge_params_lex = dict(vectorizer__word__min_df=[3, 5, 7], ordinal_ridge__alpha=[0.5, 1, 5])\n",
    "lad_params_lex = dict(vectorizer__word__min_df=[3, 5, 7], lad__C=[0.01, 0.1, 1])"
   ]
  },
  {
   "cell_type": "code",
   "execution_count": 30,
   "metadata": {},
   "outputs": [],
   "source": [
    "lr_params_gram = dict(lr__C=[0.1, 0.5, 1], lr__penalty=[\"l1\", \"l2\"])\n",
    "svm_params_gram = dict(svm__C=[0.01, 0.1, 1])\n",
    "tree_params_gram = dict(tree__max_depth=[None, 7, 10],\n",
    "                tree__min_samples_leaf=[1, 10])\n",
    "adaboost_params_gram = dict(adaboost__base_estimator=[DecisionTreeClassifier(max_depth=1),\n",
    "                        DecisionTreeClassifier(max_depth=2)])\n",
    "random_forest_params_gram = dict(random_forest__max_depth=[None, 10],\n",
    "                       random_forest__min_samples_leaf=[1, 5])\n",
    "extra_trees_params_gram = dict(extra_trees__max_depth=[None, 15],\n",
    "                       extra_trees__min_samples_leaf=[1, 15])\n",
    "lgbm_params_gram = dict(lgbm__min_split_gain=[0, 0.5], lgbm__colsample_bytree=[0.25, 0.5, 1])\n",
    "logistic_at_params_gram = dict(logistic_at__alpha=[0.5, 1, 5])\n",
    "logistic_it_params_gram = dict(logistic_it__alpha=[0.5, 1, 5])\n",
    "logistic_se_params_gram = dict(logistic_se__alpha=[0.5, 1, 5])\n",
    "ordinal_ridge_params_gram = dict(ordinal_ridge__alpha=[0.5, 1, 5])\n",
    "lad_params_gram = dict(lad__C=[0.01, 0.1, 1])"
   ]
  },
  {
   "cell_type": "code",
   "execution_count": 31,
   "metadata": {},
   "outputs": [],
   "source": [
    "clfs_lex = {\n",
    "    \"lr\": [lr, lr_params_lex],\n",
    "#     \"svm\": [svm, svm_params_lex],\n",
    "#      \"tree\": [tree, tree_params_lex],\n",
    "#     \"adaboost\": [adaboost, adaboost_params_lex],\n",
    "#     \"random_forest\": [random_forest, random_forest_params_lex],\n",
    "#     \"extra_trees\": [extra_trees, extra_trees_params_lex],\n",
    "#     \"lgbm\": [lgbm, lgbm_params_lex],\n",
    "#      \"lad\": [lad, lad_params_lex],\n",
    "#     \"ordinal_ridge\": [ordinal_ridge, ordinal_ridge_params_lex],\n",
    "#     \"logistic_se\": [logistic_se, logistic_se_params_lex],\n",
    "#     \"logistic_at\": [logistic_at, logistic_at_params_lex],\n",
    "#     \"logistic_it\": [logistic_it, logistic_it_params_lex],\n",
    "}"
   ]
  },
  {
   "cell_type": "code",
   "execution_count": 32,
   "metadata": {},
   "outputs": [],
   "source": [
    "clfs_gram = {\n",
    "    \"lr\": [lr, lr_params_gram],\n",
    "#     \"svm\": [svm, svm_params_gram],\n",
    "#     \"tree\": [tree, tree_params_gram],\n",
    "#     \"adaboost\": [adaboost, adaboost_params_gram],\n",
    "#     \"random_forest\": [random_forest, random_forest_params_gram],\n",
    "#     \"extra_trees\": [extra_trees, extra_trees_params_gram],\n",
    "#     \"lgbm\": [lgbm, lgbm_params_gram],\n",
    "#     \"lad\": [lad, lad_params_gram],\n",
    "#     \"ordinal_ridge\": [ordinal_ridge, ordinal_ridge_params_gram],\n",
    "#     \"logistic_se\": [logistic_se, logistic_se_params_gram],\n",
    "#     \"logistic_at\": [logistic_at, logistic_at_params_gram],\n",
    "#     \"logistic_it\": [logistic_it, logistic_it_params_gram],\n",
    "}"
   ]
  },
  {
   "cell_type": "code",
   "execution_count": 33,
   "metadata": {},
   "outputs": [],
   "source": [
    "clfs_all = clfs_lex"
   ]
  },
  {
   "cell_type": "code",
   "execution_count": 34,
   "metadata": {},
   "outputs": [],
   "source": [
    "tree_based = {\"tree\", \"adaboost\", \"random_forest\", \"extra_trees\", \"lgbm\"}\n",
    "with_coefs = {\"lr\", \"svm\"}"
   ]
  },
  {
   "cell_type": "code",
   "execution_count": 35,
   "metadata": {},
   "outputs": [],
   "source": [
    "lexical_features = ['zipf_freqs_1', 'zipf_freqs_2', 'zipf_freqs_3', 'zipf_freqs_4',\n",
    "       'zipf_freqs_5', 'zipf_freqs_6', 'A1', 'A2', 'B1', 'B2', 'C1', 'C2',\n",
    "       'type_token_ratio', 'abstract_nouns', 'concrete_nouns']\n",
    "\n",
    "grammatical_features = [\"mean_noun_chunk_len\",\n",
    "                        \"passiveness\",\n",
    "                        \"mean_num_dependencies\",\n",
    "                        \"mean_arc_len\"]"
   ]
  },
  {
   "cell_type": "code",
   "execution_count": 36,
   "metadata": {},
   "outputs": [],
   "source": [
    "column_trans_lex = ColumnTransformer(\n",
    "            [(\"word\", vectorizer, \"words\"),\n",
    "             (\"lex\", PassthroughTransformer(), lexical_features)])\n",
    "\n",
    "column_trans_gram = ColumnTransformer(\n",
    "            [(\"pos\", MyTfidfVectorizer(), \"pos\"), \n",
    "             (\"dep\", MyTfidfVectorizer(), \"dep\"),\n",
    "             (\"gram\", PassthroughTransformer(), grammatical_features)])\n",
    "\n",
    "column_trans_all = ColumnTransformer(\n",
    "            [(\"word\", vectorizer, \"words\"), \n",
    "             (\"pos\", MyTfidfVectorizer(), \"pos\"),\n",
    "             (\"dep\", MyTfidfVectorizer(), \"dep\"),\n",
    "             (\"feature\", PassthroughTransformer(), lexical_features + grammatical_features)])"
   ]
  },
  {
   "cell_type": "code",
   "execution_count": 37,
   "metadata": {},
   "outputs": [],
   "source": [
    "features = {\"lexical\": {\"clfs\": clfs_lex, \"column_trans\": column_trans_lex},\n",
    "            \"grammatical\": {\"clfs\": clfs_gram, \"column_trans\": column_trans_gram},\n",
    "            \"all\": {\"clfs\": clfs_all, \"column_trans\": column_trans_all}}"
   ]
  },
  {
   "cell_type": "code",
   "execution_count": 38,
   "metadata": {},
   "outputs": [],
   "source": [
    "results = {}\n",
    "\n",
    "for feature_set in features:\n",
    "    results[feature_set] = {\"F1 macro (validation)\": {},\n",
    "                        \"Best params\": {},\n",
    "                        \"Accuracy (test)\": {},\n",
    "                        \"F1 macro (test)\": {}\n",
    "                       }"
   ]
  },
  {
   "cell_type": "code",
   "execution_count": 39,
   "metadata": {},
   "outputs": [],
   "source": [
    "skf = StratifiedKFold(n_splits=4, shuffle=True, random_state=42)"
   ]
  },
  {
   "cell_type": "code",
   "execution_count": 40,
   "metadata": {},
   "outputs": [],
   "source": [
    "X_train, X_test, y_train, y_test = train_test_split(X, Y, \n",
    "                                                    train_size=0.8, \n",
    "                                                    random_state=42,\n",
    "                                                   stratify=Y)"
   ]
  },
  {
   "cell_type": "code",
   "execution_count": 45,
   "metadata": {},
   "outputs": [],
   "source": [
    "def classification(feature_set, clfs, column_trans):\n",
    "    directories = (\"illustrations\", \"models\", \"results\")\n",
    "    nested_directories = tuple(os.path.join(directory, feature_set) for directory in directories)\n",
    "    for directory in nested_directories:\n",
    "        if not os.path.exists(directory):\n",
    "            os.makedirs(directory)\n",
    "            \n",
    "    for clf_name, clf_params in clfs.items():\n",
    "        clf, params = clf_params\n",
    "        if clf_name in tree_based:\n",
    "            pipeline = Pipeline(steps=[(\"vectorizer\", column_trans), (clf_name, clf)])\n",
    "        else:\n",
    "            pipeline = Pipeline(steps=[(\"vectorizer\", column_trans), (\"scaler\", scaler), (clf_name, clf)])\n",
    "        grid_search = GridSearchCV(pipeline, param_grid=params,\n",
    "                               scoring={\"F1\": \"f1_macro\", \"Accuracy\": \"accuracy\"},\n",
    "                               refit=\"F1\", return_train_score=True, cv=skf, verbose=10) \n",
    "        grid_search.fit(X_train, y_train)\n",
    "        best_f1_val = round(grid_search.best_score_, 4)\n",
    "        best_params = grid_search.best_params_\n",
    "        print(feature_set)\n",
    "        print(clf)\n",
    "        print(f\"Best f1 on validation: {best_f1_val}\")\n",
    "        print(\"Best parameters:\", best_params, \"\\n\")\n",
    "        estimator = grid_search.best_estimator_\n",
    "        \n",
    "        joblib.dump(grid_search, os.path.join(\"serialized\", f\"{feature_set}-{clf_name}.joblib\"))\n",
    "        y_pred_test = estimator.predict(X_test)\n",
    "        acc, f1 = quality(y_test, y_pred_test)\n",
    "\n",
    "        for metric, value in {\"F1 macro (validation)\": best_f1_val,\n",
    "                              \"Best params\": best_params,\n",
    "                              \"Accuracy (test)\": round(acc, 4),\n",
    "                              \"F1 macro (test)\": round(f1, 4)}.items():\n",
    "            results[feature_set][metric][clf_name] = value\n",
    "        \n",
    "        illustration_path = os.path.join(\"illustrations\", feature_set, f\"_{clf_name}\")\n",
    "        if clf_name in tree_based:\n",
    "            visualize_feature_importances(estimator, 10, illustration_path)\n",
    "        elif clf_name in with_coefs:\n",
    "            visualize_coefs(estimator, 10, illustration_path)"
   ]
  },
  {
   "cell_type": "code",
   "execution_count": 46,
   "metadata": {},
   "outputs": [
    {
     "name": "stdout",
     "output_type": "stream",
     "text": [
      "Fitting 4 folds for each of 18 candidates, totalling 72 fits\n",
      "[CV 1/4; 1/18] START lr__C=0.1, lr__penalty=l1, vectorizer__word__min_df=3......\n",
      "[CV 1/4; 1/18] END lr__C=0.1, lr__penalty=l1, vectorizer__word__min_df=3; Accuracy: (train=0.812, test=0.815) F1: (train=0.810, test=0.812) total time=   3.2s\n",
      "[CV 2/4; 1/18] START lr__C=0.1, lr__penalty=l1, vectorizer__word__min_df=3......\n",
      "[CV 2/4; 1/18] END lr__C=0.1, lr__penalty=l1, vectorizer__word__min_df=3; Accuracy: (train=0.819, test=0.794) F1: (train=0.816, test=0.793) total time=   3.2s\n",
      "[CV 3/4; 1/18] START lr__C=0.1, lr__penalty=l1, vectorizer__word__min_df=3......\n",
      "[CV 3/4; 1/18] END lr__C=0.1, lr__penalty=l1, vectorizer__word__min_df=3; Accuracy: (train=0.816, test=0.807) F1: (train=0.814, test=0.806) total time=   3.2s\n",
      "[CV 4/4; 1/18] START lr__C=0.1, lr__penalty=l1, vectorizer__word__min_df=3......\n",
      "[CV 4/4; 1/18] END lr__C=0.1, lr__penalty=l1, vectorizer__word__min_df=3; Accuracy: (train=0.817, test=0.810) F1: (train=0.814, test=0.807) total time=   3.2s\n",
      "[CV 1/4; 2/18] START lr__C=0.1, lr__penalty=l1, vectorizer__word__min_df=5......\n",
      "[CV 1/4; 2/18] END lr__C=0.1, lr__penalty=l1, vectorizer__word__min_df=5; Accuracy: (train=0.812, test=0.815) F1: (train=0.809, test=0.812) total time=   2.6s\n",
      "[CV 2/4; 2/18] START lr__C=0.1, lr__penalty=l1, vectorizer__word__min_df=5......\n",
      "[CV 2/4; 2/18] END lr__C=0.1, lr__penalty=l1, vectorizer__word__min_df=5; Accuracy: (train=0.818, test=0.797) F1: (train=0.815, test=0.795) total time=   2.7s\n",
      "[CV 3/4; 2/18] START lr__C=0.1, lr__penalty=l1, vectorizer__word__min_df=5......\n",
      "[CV 3/4; 2/18] END lr__C=0.1, lr__penalty=l1, vectorizer__word__min_df=5; Accuracy: (train=0.814, test=0.806) F1: (train=0.812, test=0.804) total time=   2.7s\n",
      "[CV 4/4; 2/18] START lr__C=0.1, lr__penalty=l1, vectorizer__word__min_df=5......\n",
      "[CV 4/4; 2/18] END lr__C=0.1, lr__penalty=l1, vectorizer__word__min_df=5; Accuracy: (train=0.817, test=0.806) F1: (train=0.815, test=0.803) total time=   2.7s\n",
      "[CV 1/4; 3/18] START lr__C=0.1, lr__penalty=l1, vectorizer__word__min_df=7......\n",
      "[CV 1/4; 3/18] END lr__C=0.1, lr__penalty=l1, vectorizer__word__min_df=7; Accuracy: (train=0.811, test=0.820) F1: (train=0.809, test=0.818) total time=   2.5s\n",
      "[CV 2/4; 3/18] START lr__C=0.1, lr__penalty=l1, vectorizer__word__min_df=7......\n",
      "[CV 2/4; 3/18] END lr__C=0.1, lr__penalty=l1, vectorizer__word__min_df=7; Accuracy: (train=0.817, test=0.798) F1: (train=0.815, test=0.796) total time=   2.4s\n",
      "[CV 3/4; 3/18] START lr__C=0.1, lr__penalty=l1, vectorizer__word__min_df=7......\n",
      "[CV 3/4; 3/18] END lr__C=0.1, lr__penalty=l1, vectorizer__word__min_df=7; Accuracy: (train=0.815, test=0.807) F1: (train=0.812, test=0.805) total time=   2.4s\n",
      "[CV 4/4; 3/18] START lr__C=0.1, lr__penalty=l1, vectorizer__word__min_df=7......\n",
      "[CV 4/4; 3/18] END lr__C=0.1, lr__penalty=l1, vectorizer__word__min_df=7; Accuracy: (train=0.819, test=0.804) F1: (train=0.816, test=0.801) total time=   2.4s\n",
      "[CV 1/4; 4/18] START lr__C=0.1, lr__penalty=l2, vectorizer__word__min_df=3......\n",
      "[CV 1/4; 4/18] END lr__C=0.1, lr__penalty=l2, vectorizer__word__min_df=3; Accuracy: (train=0.909, test=0.842) F1: (train=0.908, test=0.840) total time=   2.6s\n",
      "[CV 2/4; 4/18] START lr__C=0.1, lr__penalty=l2, vectorizer__word__min_df=3......\n",
      "[CV 2/4; 4/18] END lr__C=0.1, lr__penalty=l2, vectorizer__word__min_df=3; Accuracy: (train=0.911, test=0.830) F1: (train=0.910, test=0.827) total time=   2.6s\n",
      "[CV 3/4; 4/18] START lr__C=0.1, lr__penalty=l2, vectorizer__word__min_df=3......\n",
      "[CV 3/4; 4/18] END lr__C=0.1, lr__penalty=l2, vectorizer__word__min_df=3; Accuracy: (train=0.907, test=0.854) F1: (train=0.906, test=0.853) total time=   2.6s\n",
      "[CV 4/4; 4/18] START lr__C=0.1, lr__penalty=l2, vectorizer__word__min_df=3......\n",
      "[CV 4/4; 4/18] END lr__C=0.1, lr__penalty=l2, vectorizer__word__min_df=3; Accuracy: (train=0.906, test=0.839) F1: (train=0.905, test=0.836) total time=   2.6s\n",
      "[CV 1/4; 5/18] START lr__C=0.1, lr__penalty=l2, vectorizer__word__min_df=5......\n",
      "[CV 1/4; 5/18] END lr__C=0.1, lr__penalty=l2, vectorizer__word__min_df=5; Accuracy: (train=0.904, test=0.844) F1: (train=0.903, test=0.841) total time=   2.1s\n",
      "[CV 2/4; 5/18] START lr__C=0.1, lr__penalty=l2, vectorizer__word__min_df=5......\n",
      "[CV 2/4; 5/18] END lr__C=0.1, lr__penalty=l2, vectorizer__word__min_df=5; Accuracy: (train=0.906, test=0.827) F1: (train=0.905, test=0.824) total time=   2.1s\n",
      "[CV 3/4; 5/18] START lr__C=0.1, lr__penalty=l2, vectorizer__word__min_df=5......\n",
      "[CV 3/4; 5/18] END lr__C=0.1, lr__penalty=l2, vectorizer__word__min_df=5; Accuracy: (train=0.903, test=0.855) F1: (train=0.902, test=0.853) total time=   2.1s\n",
      "[CV 4/4; 5/18] START lr__C=0.1, lr__penalty=l2, vectorizer__word__min_df=5......\n",
      "[CV 4/4; 5/18] END lr__C=0.1, lr__penalty=l2, vectorizer__word__min_df=5; Accuracy: (train=0.903, test=0.836) F1: (train=0.902, test=0.834) total time=   2.1s\n",
      "[CV 1/4; 6/18] START lr__C=0.1, lr__penalty=l2, vectorizer__word__min_df=7......\n",
      "[CV 1/4; 6/18] END lr__C=0.1, lr__penalty=l2, vectorizer__word__min_df=7; Accuracy: (train=0.902, test=0.846) F1: (train=0.901, test=0.844) total time=   1.8s\n",
      "[CV 2/4; 6/18] START lr__C=0.1, lr__penalty=l2, vectorizer__word__min_df=7......\n",
      "[CV 2/4; 6/18] END lr__C=0.1, lr__penalty=l2, vectorizer__word__min_df=7; Accuracy: (train=0.902, test=0.829) F1: (train=0.900, test=0.825) total time=   1.8s\n",
      "[CV 3/4; 6/18] START lr__C=0.1, lr__penalty=l2, vectorizer__word__min_df=7......\n",
      "[CV 3/4; 6/18] END lr__C=0.1, lr__penalty=l2, vectorizer__word__min_df=7; Accuracy: (train=0.899, test=0.852) F1: (train=0.898, test=0.850) total time=   1.8s\n",
      "[CV 4/4; 6/18] START lr__C=0.1, lr__penalty=l2, vectorizer__word__min_df=7......\n",
      "[CV 4/4; 6/18] END lr__C=0.1, lr__penalty=l2, vectorizer__word__min_df=7; Accuracy: (train=0.901, test=0.842) F1: (train=0.899, test=0.839) total time=   1.8s\n",
      "[CV 1/4; 7/18] START lr__C=0.5, lr__penalty=l1, vectorizer__word__min_df=3......\n",
      "[CV 1/4; 7/18] END lr__C=0.5, lr__penalty=l1, vectorizer__word__min_df=3; Accuracy: (train=0.880, test=0.849) F1: (train=0.879, test=0.848) total time=   7.1s\n",
      "[CV 2/4; 7/18] START lr__C=0.5, lr__penalty=l1, vectorizer__word__min_df=3......\n",
      "[CV 2/4; 7/18] END lr__C=0.5, lr__penalty=l1, vectorizer__word__min_df=3; Accuracy: (train=0.884, test=0.841) F1: (train=0.883, test=0.839) total time=   7.5s\n",
      "[CV 3/4; 7/18] START lr__C=0.5, lr__penalty=l1, vectorizer__word__min_df=3......\n",
      "[CV 3/4; 7/18] END lr__C=0.5, lr__penalty=l1, vectorizer__word__min_df=3; Accuracy: (train=0.882, test=0.854) F1: (train=0.881, test=0.854) total time=   7.0s\n",
      "[CV 4/4; 7/18] START lr__C=0.5, lr__penalty=l1, vectorizer__word__min_df=3......\n",
      "[CV 4/4; 7/18] END lr__C=0.5, lr__penalty=l1, vectorizer__word__min_df=3; Accuracy: (train=0.883, test=0.846) F1: (train=0.883, test=0.844) total time=   8.2s\n",
      "[CV 1/4; 8/18] START lr__C=0.5, lr__penalty=l1, vectorizer__word__min_df=5......\n",
      "[CV 1/4; 8/18] END lr__C=0.5, lr__penalty=l1, vectorizer__word__min_df=5; Accuracy: (train=0.880, test=0.851) F1: (train=0.879, test=0.850) total time=   4.9s\n",
      "[CV 2/4; 8/18] START lr__C=0.5, lr__penalty=l1, vectorizer__word__min_df=5......\n",
      "[CV 2/4; 8/18] END lr__C=0.5, lr__penalty=l1, vectorizer__word__min_df=5; Accuracy: (train=0.885, test=0.839) F1: (train=0.884, test=0.838) total time=   5.7s\n",
      "[CV 3/4; 8/18] START lr__C=0.5, lr__penalty=l1, vectorizer__word__min_df=5......\n",
      "[CV 3/4; 8/18] END lr__C=0.5, lr__penalty=l1, vectorizer__word__min_df=5; Accuracy: (train=0.880, test=0.855) F1: (train=0.879, test=0.854) total time=   6.0s\n",
      "[CV 4/4; 8/18] START lr__C=0.5, lr__penalty=l1, vectorizer__word__min_df=5......\n",
      "[CV 4/4; 8/18] END lr__C=0.5, lr__penalty=l1, vectorizer__word__min_df=5; Accuracy: (train=0.883, test=0.843) F1: (train=0.882, test=0.841) total time=   7.3s\n",
      "[CV 1/4; 9/18] START lr__C=0.5, lr__penalty=l1, vectorizer__word__min_df=7......\n",
      "[CV 1/4; 9/18] END lr__C=0.5, lr__penalty=l1, vectorizer__word__min_df=7; Accuracy: (train=0.882, test=0.851) F1: (train=0.881, test=0.850) total time=   3.4s\n",
      "[CV 2/4; 9/18] START lr__C=0.5, lr__penalty=l1, vectorizer__word__min_df=7......\n",
      "[CV 2/4; 9/18] END lr__C=0.5, lr__penalty=l1, vectorizer__word__min_df=7; Accuracy: (train=0.886, test=0.840) F1: (train=0.885, test=0.838) total time=   3.8s\n",
      "[CV 3/4; 9/18] START lr__C=0.5, lr__penalty=l1, vectorizer__word__min_df=7......\n"
     ]
    },
    {
     "name": "stdout",
     "output_type": "stream",
     "text": [
      "[CV 3/4; 9/18] END lr__C=0.5, lr__penalty=l1, vectorizer__word__min_df=7; Accuracy: (train=0.881, test=0.858) F1: (train=0.880, test=0.857) total time=   4.0s\n",
      "[CV 4/4; 9/18] START lr__C=0.5, lr__penalty=l1, vectorizer__word__min_df=7......\n",
      "[CV 4/4; 9/18] END lr__C=0.5, lr__penalty=l1, vectorizer__word__min_df=7; Accuracy: (train=0.884, test=0.840) F1: (train=0.883, test=0.838) total time=   4.5s\n",
      "[CV 1/4; 10/18] START lr__C=0.5, lr__penalty=l2, vectorizer__word__min_df=3.....\n",
      "[CV 1/4; 10/18] END lr__C=0.5, lr__penalty=l2, vectorizer__word__min_df=3; Accuracy: (train=0.965, test=0.844) F1: (train=0.965, test=0.842) total time=   2.6s\n",
      "[CV 2/4; 10/18] START lr__C=0.5, lr__penalty=l2, vectorizer__word__min_df=3.....\n",
      "[CV 2/4; 10/18] END lr__C=0.5, lr__penalty=l2, vectorizer__word__min_df=3; Accuracy: (train=0.965, test=0.829) F1: (train=0.965, test=0.827) total time=   2.7s\n",
      "[CV 3/4; 10/18] START lr__C=0.5, lr__penalty=l2, vectorizer__word__min_df=3.....\n",
      "[CV 3/4; 10/18] END lr__C=0.5, lr__penalty=l2, vectorizer__word__min_df=3; Accuracy: (train=0.965, test=0.848) F1: (train=0.965, test=0.847) total time=   2.6s\n",
      "[CV 4/4; 10/18] START lr__C=0.5, lr__penalty=l2, vectorizer__word__min_df=3.....\n",
      "[CV 4/4; 10/18] END lr__C=0.5, lr__penalty=l2, vectorizer__word__min_df=3; Accuracy: (train=0.962, test=0.835) F1: (train=0.962, test=0.834) total time=   2.6s\n",
      "[CV 1/4; 11/18] START lr__C=0.5, lr__penalty=l2, vectorizer__word__min_df=5.....\n",
      "[CV 1/4; 11/18] END lr__C=0.5, lr__penalty=l2, vectorizer__word__min_df=5; Accuracy: (train=0.958, test=0.843) F1: (train=0.958, test=0.841) total time=   2.1s\n",
      "[CV 2/4; 11/18] START lr__C=0.5, lr__penalty=l2, vectorizer__word__min_df=5.....\n",
      "[CV 2/4; 11/18] END lr__C=0.5, lr__penalty=l2, vectorizer__word__min_df=5; Accuracy: (train=0.958, test=0.831) F1: (train=0.958, test=0.829) total time=   2.1s\n",
      "[CV 3/4; 11/18] START lr__C=0.5, lr__penalty=l2, vectorizer__word__min_df=5.....\n",
      "[CV 3/4; 11/18] END lr__C=0.5, lr__penalty=l2, vectorizer__word__min_df=5; Accuracy: (train=0.956, test=0.852) F1: (train=0.956, test=0.851) total time=   2.1s\n",
      "[CV 4/4; 11/18] START lr__C=0.5, lr__penalty=l2, vectorizer__word__min_df=5.....\n",
      "[CV 4/4; 11/18] END lr__C=0.5, lr__penalty=l2, vectorizer__word__min_df=5; Accuracy: (train=0.955, test=0.833) F1: (train=0.955, test=0.832) total time=   2.1s\n",
      "[CV 1/4; 12/18] START lr__C=0.5, lr__penalty=l2, vectorizer__word__min_df=7.....\n",
      "[CV 1/4; 12/18] END lr__C=0.5, lr__penalty=l2, vectorizer__word__min_df=7; Accuracy: (train=0.951, test=0.847) F1: (train=0.951, test=0.845) total time=   1.9s\n",
      "[CV 2/4; 12/18] START lr__C=0.5, lr__penalty=l2, vectorizer__word__min_df=7.....\n",
      "[CV 2/4; 12/18] END lr__C=0.5, lr__penalty=l2, vectorizer__word__min_df=7; Accuracy: (train=0.954, test=0.830) F1: (train=0.954, test=0.828) total time=   1.9s\n",
      "[CV 3/4; 12/18] START lr__C=0.5, lr__penalty=l2, vectorizer__word__min_df=7.....\n",
      "[CV 3/4; 12/18] END lr__C=0.5, lr__penalty=l2, vectorizer__word__min_df=7; Accuracy: (train=0.951, test=0.856) F1: (train=0.951, test=0.855) total time=   1.9s\n",
      "[CV 4/4; 12/18] START lr__C=0.5, lr__penalty=l2, vectorizer__word__min_df=7.....\n",
      "[CV 4/4; 12/18] END lr__C=0.5, lr__penalty=l2, vectorizer__word__min_df=7; Accuracy: (train=0.949, test=0.837) F1: (train=0.949, test=0.836) total time=   1.9s\n",
      "[CV 1/4; 13/18] START lr__C=1, lr__penalty=l1, vectorizer__word__min_df=3.......\n",
      "[CV 1/4; 13/18] END lr__C=1, lr__penalty=l1, vectorizer__word__min_df=3; Accuracy: (train=0.924, test=0.856) F1: (train=0.924, test=0.855) total time=   8.7s\n",
      "[CV 2/4; 13/18] START lr__C=1, lr__penalty=l1, vectorizer__word__min_df=3.......\n",
      "[CV 2/4; 13/18] END lr__C=1, lr__penalty=l1, vectorizer__word__min_df=3; Accuracy: (train=0.933, test=0.843) F1: (train=0.932, test=0.841) total time=   6.6s\n",
      "[CV 3/4; 13/18] START lr__C=1, lr__penalty=l1, vectorizer__word__min_df=3.......\n",
      "[CV 3/4; 13/18] END lr__C=1, lr__penalty=l1, vectorizer__word__min_df=3; Accuracy: (train=0.928, test=0.861) F1: (train=0.928, test=0.861) total time=   5.7s\n",
      "[CV 4/4; 13/18] START lr__C=1, lr__penalty=l1, vectorizer__word__min_df=3.......\n",
      "[CV 4/4; 13/18] END lr__C=1, lr__penalty=l1, vectorizer__word__min_df=3; Accuracy: (train=0.931, test=0.850) F1: (train=0.930, test=0.849) total time=   8.8s\n",
      "[CV 1/4; 14/18] START lr__C=1, lr__penalty=l1, vectorizer__word__min_df=5.......\n",
      "[CV 1/4; 14/18] END lr__C=1, lr__penalty=l1, vectorizer__word__min_df=5; Accuracy: (train=0.925, test=0.859) F1: (train=0.925, test=0.859) total time=   6.2s\n",
      "[CV 2/4; 14/18] START lr__C=1, lr__penalty=l1, vectorizer__word__min_df=5.......\n",
      "[CV 2/4; 14/18] END lr__C=1, lr__penalty=l1, vectorizer__word__min_df=5; Accuracy: (train=0.931, test=0.845) F1: (train=0.930, test=0.843) total time=   6.1s\n",
      "[CV 3/4; 14/18] START lr__C=1, lr__penalty=l1, vectorizer__word__min_df=5.......\n",
      "[CV 3/4; 14/18] END lr__C=1, lr__penalty=l1, vectorizer__word__min_df=5; Accuracy: (train=0.927, test=0.855) F1: (train=0.927, test=0.855) total time=   5.2s\n",
      "[CV 4/4; 14/18] START lr__C=1, lr__penalty=l1, vectorizer__word__min_df=5.......\n",
      "[CV 4/4; 14/18] END lr__C=1, lr__penalty=l1, vectorizer__word__min_df=5; Accuracy: (train=0.929, test=0.847) F1: (train=0.929, test=0.846) total time=   6.0s\n",
      "[CV 1/4; 15/18] START lr__C=1, lr__penalty=l1, vectorizer__word__min_df=7.......\n",
      "[CV 1/4; 15/18] END lr__C=1, lr__penalty=l1, vectorizer__word__min_df=7; Accuracy: (train=0.924, test=0.858) F1: (train=0.924, test=0.857) total time=   5.6s\n",
      "[CV 2/4; 15/18] START lr__C=1, lr__penalty=l1, vectorizer__word__min_df=7.......\n",
      "[CV 2/4; 15/18] END lr__C=1, lr__penalty=l1, vectorizer__word__min_df=7; Accuracy: (train=0.931, test=0.845) F1: (train=0.931, test=0.844) total time=   5.0s\n",
      "[CV 3/4; 15/18] START lr__C=1, lr__penalty=l1, vectorizer__word__min_df=7.......\n",
      "[CV 3/4; 15/18] END lr__C=1, lr__penalty=l1, vectorizer__word__min_df=7; Accuracy: (train=0.928, test=0.857) F1: (train=0.927, test=0.857) total time=   5.5s\n",
      "[CV 4/4; 15/18] START lr__C=1, lr__penalty=l1, vectorizer__word__min_df=7.......\n",
      "[CV 4/4; 15/18] END lr__C=1, lr__penalty=l1, vectorizer__word__min_df=7; Accuracy: (train=0.929, test=0.851) F1: (train=0.929, test=0.850) total time=   5.5s\n",
      "[CV 1/4; 16/18] START lr__C=1, lr__penalty=l2, vectorizer__word__min_df=3.......\n",
      "[CV 1/4; 16/18] END lr__C=1, lr__penalty=l2, vectorizer__word__min_df=3; Accuracy: (train=0.983, test=0.835) F1: (train=0.983, test=0.833) total time=   2.7s\n",
      "[CV 2/4; 16/18] START lr__C=1, lr__penalty=l2, vectorizer__word__min_df=3.......\n",
      "[CV 2/4; 16/18] END lr__C=1, lr__penalty=l2, vectorizer__word__min_df=3; Accuracy: (train=0.985, test=0.824) F1: (train=0.985, test=0.823) total time=   2.7s\n",
      "[CV 3/4; 16/18] START lr__C=1, lr__penalty=l2, vectorizer__word__min_df=3.......\n",
      "[CV 3/4; 16/18] END lr__C=1, lr__penalty=l2, vectorizer__word__min_df=3; Accuracy: (train=0.982, test=0.847) F1: (train=0.982, test=0.846) total time=   2.7s\n",
      "[CV 4/4; 16/18] START lr__C=1, lr__penalty=l2, vectorizer__word__min_df=3.......\n",
      "[CV 4/4; 16/18] END lr__C=1, lr__penalty=l2, vectorizer__word__min_df=3; Accuracy: (train=0.983, test=0.829) F1: (train=0.983, test=0.827) total time=   2.7s\n",
      "[CV 1/4; 17/18] START lr__C=1, lr__penalty=l2, vectorizer__word__min_df=5.......\n",
      "[CV 1/4; 17/18] END lr__C=1, lr__penalty=l2, vectorizer__word__min_df=5; Accuracy: (train=0.977, test=0.835) F1: (train=0.977, test=0.834) total time=   2.2s\n",
      "[CV 2/4; 17/18] START lr__C=1, lr__penalty=l2, vectorizer__word__min_df=5.......\n",
      "[CV 2/4; 17/18] END lr__C=1, lr__penalty=l2, vectorizer__word__min_df=5; Accuracy: (train=0.979, test=0.828) F1: (train=0.979, test=0.826) total time=   2.2s\n",
      "[CV 3/4; 17/18] START lr__C=1, lr__penalty=l2, vectorizer__word__min_df=5.......\n",
      "[CV 3/4; 17/18] END lr__C=1, lr__penalty=l2, vectorizer__word__min_df=5; Accuracy: (train=0.976, test=0.848) F1: (train=0.976, test=0.847) total time=   2.2s\n",
      "[CV 4/4; 17/18] START lr__C=1, lr__penalty=l2, vectorizer__word__min_df=5.......\n",
      "[CV 4/4; 17/18] END lr__C=1, lr__penalty=l2, vectorizer__word__min_df=5; Accuracy: (train=0.976, test=0.832) F1: (train=0.976, test=0.831) total time=   2.1s\n",
      "[CV 1/4; 18/18] START lr__C=1, lr__penalty=l2, vectorizer__word__min_df=7.......\n",
      "[CV 1/4; 18/18] END lr__C=1, lr__penalty=l2, vectorizer__word__min_df=7; Accuracy: (train=0.971, test=0.839) F1: (train=0.971, test=0.837) total time=   1.9s\n",
      "[CV 2/4; 18/18] START lr__C=1, lr__penalty=l2, vectorizer__word__min_df=7.......\n"
     ]
    },
    {
     "name": "stdout",
     "output_type": "stream",
     "text": [
      "[CV 2/4; 18/18] END lr__C=1, lr__penalty=l2, vectorizer__word__min_df=7; Accuracy: (train=0.973, test=0.824) F1: (train=0.973, test=0.822) total time=   1.9s\n",
      "[CV 3/4; 18/18] START lr__C=1, lr__penalty=l2, vectorizer__word__min_df=7.......\n",
      "[CV 3/4; 18/18] END lr__C=1, lr__penalty=l2, vectorizer__word__min_df=7; Accuracy: (train=0.971, test=0.853) F1: (train=0.971, test=0.852) total time=   1.9s\n",
      "[CV 4/4; 18/18] START lr__C=1, lr__penalty=l2, vectorizer__word__min_df=7.......\n",
      "[CV 4/4; 18/18] END lr__C=1, lr__penalty=l2, vectorizer__word__min_df=7; Accuracy: (train=0.970, test=0.831) F1: (train=0.970, test=0.830) total time=   1.9s\n",
      "lexical\n",
      "LogisticRegression(solver='liblinear')\n",
      "Best f1 on validation: 0.8521\n",
      "Best parameters: {'lr__C': 1, 'lr__penalty': 'l1', 'vectorizer__word__min_df': 7} \n",
      "\n",
      "Accuracy: 0.8523\n",
      "F1 macro: 0.8518\n"
     ]
    },
    {
     "data": {
      "image/png": "[encoded data removed]",
      "text/plain": [
       "<Figure size 432x288 with 2 Axes>"
      ]
     },
     "metadata": {
      "needs_background": "light"
     },
     "output_type": "display_data"
    },
    {
     "name": "stdout",
     "output_type": "stream",
     "text": [
      "4803\n",
      "class 0\n"
     ]
    },
    {
     "data": {
      "image/png": "[encoded data removed]",
      "text/plain": [
       "<Figure size 648x216 with 1 Axes>"
      ]
     },
     "metadata": {
      "needs_background": "light"
     },
     "output_type": "display_data"
    },
    {
     "name": "stdout",
     "output_type": "stream",
     "text": [
      "class 1\n"
     ]
    },
    {
     "data": {
      "image/png": "[encoded data removed]",
      "text/plain": [
       "<Figure size 648x216 with 1 Axes>"
      ]
     },
     "metadata": {
      "needs_background": "light"
     },
     "output_type": "display_data"
    },
    {
     "name": "stdout",
     "output_type": "stream",
     "text": [
      "class 2\n"
     ]
    },
    {
     "data": {
      "image/png": "[encoded data removed]",
      "text/plain": [
       "<Figure size 648x216 with 1 Axes>"
      ]
     },
     "metadata": {
      "needs_background": "light"
     },
     "output_type": "display_data"
    },
    {
     "name": "stdout",
     "output_type": "stream",
     "text": [
      "Fitting 4 folds for each of 6 candidates, totalling 24 fits\n",
      "[CV 1/4; 1/6] START lr__C=0.1, lr__penalty=l1...................................\n",
      "[CV 1/4; 1/6] END lr__C=0.1, lr__penalty=l1; Accuracy: (train=0.870, test=0.876) F1: (train=0.868, test=0.874) total time=   1.8s\n",
      "[CV 2/4; 1/6] START lr__C=0.1, lr__penalty=l1...................................\n",
      "[CV 2/4; 1/6] END lr__C=0.1, lr__penalty=l1; Accuracy: (train=0.871, test=0.876) F1: (train=0.869, test=0.874) total time=   1.7s\n",
      "[CV 3/4; 1/6] START lr__C=0.1, lr__penalty=l1...................................\n",
      "[CV 3/4; 1/6] END lr__C=0.1, lr__penalty=l1; Accuracy: (train=0.873, test=0.879) F1: (train=0.871, test=0.878) total time=   1.6s\n",
      "[CV 4/4; 1/6] START lr__C=0.1, lr__penalty=l1...................................\n",
      "[CV 4/4; 1/6] END lr__C=0.1, lr__penalty=l1; Accuracy: (train=0.875, test=0.861) F1: (train=0.873, test=0.859) total time=   1.7s\n",
      "[CV 1/4; 2/6] START lr__C=0.1, lr__penalty=l2...................................\n",
      "[CV 1/4; 2/6] END lr__C=0.1, lr__penalty=l2; Accuracy: (train=0.854, test=0.847) F1: (train=0.852, test=0.843) total time=   1.2s\n",
      "[CV 2/4; 2/6] START lr__C=0.1, lr__penalty=l2...................................\n",
      "[CV 2/4; 2/6] END lr__C=0.1, lr__penalty=l2; Accuracy: (train=0.853, test=0.846) F1: (train=0.850, test=0.843) total time=   1.2s\n",
      "[CV 3/4; 2/6] START lr__C=0.1, lr__penalty=l2...................................\n",
      "[CV 3/4; 2/6] END lr__C=0.1, lr__penalty=l2; Accuracy: (train=0.853, test=0.869) F1: (train=0.850, test=0.868) total time=   1.2s\n",
      "[CV 4/4; 2/6] START lr__C=0.1, lr__penalty=l2...................................\n",
      "[CV 4/4; 2/6] END lr__C=0.1, lr__penalty=l2; Accuracy: (train=0.854, test=0.844) F1: (train=0.851, test=0.841) total time=   1.2s\n",
      "[CV 1/4; 3/6] START lr__C=0.5, lr__penalty=l1...................................\n",
      "[CV 1/4; 3/6] END lr__C=0.5, lr__penalty=l1; Accuracy: (train=0.892, test=0.891) F1: (train=0.891, test=0.889) total time=   3.0s\n",
      "[CV 2/4; 3/6] START lr__C=0.5, lr__penalty=l1...................................\n",
      "[CV 2/4; 3/6] END lr__C=0.5, lr__penalty=l1; Accuracy: (train=0.891, test=0.888) F1: (train=0.890, test=0.887) total time=   3.3s\n",
      "[CV 3/4; 3/6] START lr__C=0.5, lr__penalty=l1...................................\n",
      "[CV 3/4; 3/6] END lr__C=0.5, lr__penalty=l1; Accuracy: (train=0.891, test=0.899) F1: (train=0.890, test=0.899) total time=   3.0s\n",
      "[CV 4/4; 3/6] START lr__C=0.5, lr__penalty=l1...................................\n",
      "[CV 4/4; 3/6] END lr__C=0.5, lr__penalty=l1; Accuracy: (train=0.895, test=0.880) F1: (train=0.894, test=0.879) total time=   2.8s\n",
      "[CV 1/4; 4/6] START lr__C=0.5, lr__penalty=l2...................................\n",
      "[CV 1/4; 4/6] END lr__C=0.5, lr__penalty=l2; Accuracy: (train=0.875, test=0.872) F1: (train=0.873, test=0.870) total time=   1.3s\n",
      "[CV 2/4; 4/6] START lr__C=0.5, lr__penalty=l2...................................\n",
      "[CV 2/4; 4/6] END lr__C=0.5, lr__penalty=l2; Accuracy: (train=0.875, test=0.868) F1: (train=0.873, test=0.866) total time=   1.3s\n",
      "[CV 3/4; 4/6] START lr__C=0.5, lr__penalty=l2...................................\n",
      "[CV 3/4; 4/6] END lr__C=0.5, lr__penalty=l2; Accuracy: (train=0.872, test=0.883) F1: (train=0.870, test=0.882) total time=   1.3s\n",
      "[CV 4/4; 4/6] START lr__C=0.5, lr__penalty=l2...................................\n",
      "[CV 4/4; 4/6] END lr__C=0.5, lr__penalty=l2; Accuracy: (train=0.876, test=0.863) F1: (train=0.875, test=0.861) total time=   1.3s\n",
      "[CV 1/4; 5/6] START lr__C=1, lr__penalty=l1.....................................\n",
      "[CV 1/4; 5/6] END lr__C=1, lr__penalty=l1; Accuracy: (train=0.894, test=0.890) F1: (train=0.893, test=0.888) total time=   4.2s\n",
      "[CV 2/4; 5/6] START lr__C=1, lr__penalty=l1.....................................\n",
      "[CV 2/4; 5/6] END lr__C=1, lr__penalty=l1; Accuracy: (train=0.893, test=0.888) F1: (train=0.892, test=0.887) total time=   4.0s\n",
      "[CV 3/4; 5/6] START lr__C=1, lr__penalty=l1.....................................\n",
      "[CV 3/4; 5/6] END lr__C=1, lr__penalty=l1; Accuracy: (train=0.893, test=0.900) F1: (train=0.892, test=0.900) total time=   4.3s\n",
      "[CV 4/4; 5/6] START lr__C=1, lr__penalty=l1.....................................\n",
      "[CV 4/4; 5/6] END lr__C=1, lr__penalty=l1; Accuracy: (train=0.895, test=0.883) F1: (train=0.894, test=0.882) total time=   4.3s\n",
      "[CV 1/4; 6/6] START lr__C=1, lr__penalty=l2.....................................\n",
      "[CV 1/4; 6/6] END lr__C=1, lr__penalty=l2; Accuracy: (train=0.881, test=0.878) F1: (train=0.880, test=0.876) total time=   1.3s\n",
      "[CV 2/4; 6/6] START lr__C=1, lr__penalty=l2.....................................\n",
      "[CV 2/4; 6/6] END lr__C=1, lr__penalty=l2; Accuracy: (train=0.882, test=0.878) F1: (train=0.880, test=0.877) total time=   1.3s\n",
      "[CV 3/4; 6/6] START lr__C=1, lr__penalty=l2.....................................\n",
      "[CV 3/4; 6/6] END lr__C=1, lr__penalty=l2; Accuracy: (train=0.879, test=0.883) F1: (train=0.877, test=0.882) total time=   1.3s\n",
      "[CV 4/4; 6/6] START lr__C=1, lr__penalty=l2.....................................\n",
      "[CV 4/4; 6/6] END lr__C=1, lr__penalty=l2; Accuracy: (train=0.882, test=0.870) F1: (train=0.881, test=0.868) total time=   1.3s\n",
      "grammatical\n",
      "LogisticRegression(solver='liblinear')\n",
      "Best f1 on validation: 0.8894\n",
      "Best parameters: {'lr__C': 1, 'lr__penalty': 'l1'} \n",
      "\n",
      "Accuracy: 0.8788\n",
      "F1 macro: 0.8779\n"
     ]
    },
    {
     "data": {
      "image/png": "[encoded data removed]",
      "text/plain": [
       "<Figure size 432x288 with 2 Axes>"
      ]
     },
     "metadata": {
      "needs_background": "light"
     },
     "output_type": "display_data"
    },
    {
     "name": "stdout",
     "output_type": "stream",
     "text": [
      "62\n",
      "class 0\n"
     ]
    },
    {
     "data": {
      "image/png": "[encoded data removed]",
      "text/plain": [
       "<Figure size 648x216 with 1 Axes>"
      ]
     },
     "metadata": {
      "needs_background": "light"
     },
     "output_type": "display_data"
    },
    {
     "name": "stdout",
     "output_type": "stream",
     "text": [
      "class 1\n"
     ]
    },
    {
     "data": {
      "image/png": "[encoded data removed]",
      "text/plain": [
       "<Figure size 648x216 with 1 Axes>"
      ]
     },
     "metadata": {
      "needs_background": "light"
     },
     "output_type": "display_data"
    },
    {
     "name": "stdout",
     "output_type": "stream",
     "text": [
      "class 2\n"
     ]
    },
    {
     "data": {
      "image/png": "[encoded data removed]",
      "text/plain": [
       "<Figure size 648x216 with 1 Axes>"
      ]
     },
     "metadata": {
      "needs_background": "light"
     },
     "output_type": "display_data"
    },
    {
     "name": "stdout",
     "output_type": "stream",
     "text": [
      "Fitting 4 folds for each of 18 candidates, totalling 72 fits\n",
      "[CV 1/4; 1/18] START lr__C=0.1, lr__penalty=l1, vectorizer__word__min_df=3......\n",
      "[CV 1/4; 1/18] END lr__C=0.1, lr__penalty=l1, vectorizer__word__min_df=3; Accuracy: (train=0.896, test=0.901) F1: (train=0.895, test=0.900) total time=   4.1s\n",
      "[CV 2/4; 1/18] START lr__C=0.1, lr__penalty=l1, vectorizer__word__min_df=3......\n",
      "[CV 2/4; 1/18] END lr__C=0.1, lr__penalty=l1, vectorizer__word__min_df=3; Accuracy: (train=0.898, test=0.895) F1: (train=0.897, test=0.894) total time=   4.2s\n",
      "[CV 3/4; 1/18] START lr__C=0.1, lr__penalty=l1, vectorizer__word__min_df=3......\n",
      "[CV 3/4; 1/18] END lr__C=0.1, lr__penalty=l1, vectorizer__word__min_df=3; Accuracy: (train=0.901, test=0.898) F1: (train=0.900, test=0.898) total time=   4.1s\n",
      "[CV 4/4; 1/18] START lr__C=0.1, lr__penalty=l1, vectorizer__word__min_df=3......\n",
      "[CV 4/4; 1/18] END lr__C=0.1, lr__penalty=l1, vectorizer__word__min_df=3; Accuracy: (train=0.899, test=0.888) F1: (train=0.898, test=0.887) total time=   4.2s\n",
      "[CV 1/4; 2/18] START lr__C=0.1, lr__penalty=l1, vectorizer__word__min_df=5......\n",
      "[CV 1/4; 2/18] END lr__C=0.1, lr__penalty=l1, vectorizer__word__min_df=5; Accuracy: (train=0.898, test=0.902) F1: (train=0.897, test=0.901) total time=   3.6s\n",
      "[CV 2/4; 2/18] START lr__C=0.1, lr__penalty=l1, vectorizer__word__min_df=5......\n",
      "[CV 2/4; 2/18] END lr__C=0.1, lr__penalty=l1, vectorizer__word__min_df=5; Accuracy: (train=0.898, test=0.896) F1: (train=0.897, test=0.895) total time=   3.7s\n",
      "[CV 3/4; 2/18] START lr__C=0.1, lr__penalty=l1, vectorizer__word__min_df=5......\n",
      "[CV 3/4; 2/18] END lr__C=0.1, lr__penalty=l1, vectorizer__word__min_df=5; Accuracy: (train=0.899, test=0.899) F1: (train=0.898, test=0.898) total time=   3.6s\n",
      "[CV 4/4; 2/18] START lr__C=0.1, lr__penalty=l1, vectorizer__word__min_df=5......\n",
      "[CV 4/4; 2/18] END lr__C=0.1, lr__penalty=l1, vectorizer__word__min_df=5; Accuracy: (train=0.899, test=0.890) F1: (train=0.898, test=0.889) total time=   3.6s\n",
      "[CV 1/4; 3/18] START lr__C=0.1, lr__penalty=l1, vectorizer__word__min_df=7......\n",
      "[CV 1/4; 3/18] END lr__C=0.1, lr__penalty=l1, vectorizer__word__min_df=7; Accuracy: (train=0.897, test=0.901) F1: (train=0.896, test=0.900) total time=   3.4s\n",
      "[CV 2/4; 3/18] START lr__C=0.1, lr__penalty=l1, vectorizer__word__min_df=7......\n",
      "[CV 2/4; 3/18] END lr__C=0.1, lr__penalty=l1, vectorizer__word__min_df=7; Accuracy: (train=0.897, test=0.896) F1: (train=0.897, test=0.895) total time=   3.4s\n",
      "[CV 3/4; 3/18] START lr__C=0.1, lr__penalty=l1, vectorizer__word__min_df=7......\n",
      "[CV 3/4; 3/18] END lr__C=0.1, lr__penalty=l1, vectorizer__word__min_df=7; Accuracy: (train=0.899, test=0.899) F1: (train=0.898, test=0.898) total time=   3.3s\n",
      "[CV 4/4; 3/18] START lr__C=0.1, lr__penalty=l1, vectorizer__word__min_df=7......\n",
      "[CV 4/4; 3/18] END lr__C=0.1, lr__penalty=l1, vectorizer__word__min_df=7; Accuracy: (train=0.899, test=0.888) F1: (train=0.898, test=0.887) total time=   3.4s\n",
      "[CV 1/4; 4/18] START lr__C=0.1, lr__penalty=l2, vectorizer__word__min_df=3......\n",
      "[CV 1/4; 4/18] END lr__C=0.1, lr__penalty=l2, vectorizer__word__min_df=3; Accuracy: (train=0.932, test=0.885) F1: (train=0.932, test=0.884) total time=   3.9s\n",
      "[CV 2/4; 4/18] START lr__C=0.1, lr__penalty=l2, vectorizer__word__min_df=3......\n",
      "[CV 2/4; 4/18] END lr__C=0.1, lr__penalty=l2, vectorizer__word__min_df=3; Accuracy: (train=0.933, test=0.876) F1: (train=0.932, test=0.875) total time=   3.9s\n",
      "[CV 3/4; 4/18] START lr__C=0.1, lr__penalty=l2, vectorizer__word__min_df=3......\n",
      "[CV 3/4; 4/18] END lr__C=0.1, lr__penalty=l2, vectorizer__word__min_df=3; Accuracy: (train=0.932, test=0.893) F1: (train=0.932, test=0.892) total time=   3.9s\n",
      "[CV 4/4; 4/18] START lr__C=0.1, lr__penalty=l2, vectorizer__word__min_df=3......\n",
      "[CV 4/4; 4/18] END lr__C=0.1, lr__penalty=l2, vectorizer__word__min_df=3; Accuracy: (train=0.931, test=0.883) F1: (train=0.931, test=0.882) total time=   3.9s\n",
      "[CV 1/4; 5/18] START lr__C=0.1, lr__penalty=l2, vectorizer__word__min_df=5......\n",
      "[CV 1/4; 5/18] END lr__C=0.1, lr__penalty=l2, vectorizer__word__min_df=5; Accuracy: (train=0.930, test=0.887) F1: (train=0.929, test=0.885) total time=   3.4s\n",
      "[CV 2/4; 5/18] START lr__C=0.1, lr__penalty=l2, vectorizer__word__min_df=5......\n",
      "[CV 2/4; 5/18] END lr__C=0.1, lr__penalty=l2, vectorizer__word__min_df=5; Accuracy: (train=0.930, test=0.879) F1: (train=0.930, test=0.877) total time=   3.4s\n",
      "[CV 3/4; 5/18] START lr__C=0.1, lr__penalty=l2, vectorizer__word__min_df=5......\n",
      "[CV 3/4; 5/18] END lr__C=0.1, lr__penalty=l2, vectorizer__word__min_df=5; Accuracy: (train=0.929, test=0.893) F1: (train=0.928, test=0.893) total time=   3.4s\n",
      "[CV 4/4; 5/18] START lr__C=0.1, lr__penalty=l2, vectorizer__word__min_df=5......\n",
      "[CV 4/4; 5/18] END lr__C=0.1, lr__penalty=l2, vectorizer__word__min_df=5; Accuracy: (train=0.929, test=0.884) F1: (train=0.928, test=0.883) total time=   3.4s\n",
      "[CV 1/4; 6/18] START lr__C=0.1, lr__penalty=l2, vectorizer__word__min_df=7......\n",
      "[CV 1/4; 6/18] END lr__C=0.1, lr__penalty=l2, vectorizer__word__min_df=7; Accuracy: (train=0.929, test=0.888) F1: (train=0.928, test=0.886) total time=   3.1s\n",
      "[CV 2/4; 6/18] START lr__C=0.1, lr__penalty=l2, vectorizer__word__min_df=7......\n",
      "[CV 2/4; 6/18] END lr__C=0.1, lr__penalty=l2, vectorizer__word__min_df=7; Accuracy: (train=0.926, test=0.877) F1: (train=0.926, test=0.876) total time=   3.2s\n",
      "[CV 3/4; 6/18] START lr__C=0.1, lr__penalty=l2, vectorizer__word__min_df=7......\n",
      "[CV 3/4; 6/18] END lr__C=0.1, lr__penalty=l2, vectorizer__word__min_df=7; Accuracy: (train=0.927, test=0.895) F1: (train=0.926, test=0.895) total time=   3.1s\n",
      "[CV 4/4; 6/18] START lr__C=0.1, lr__penalty=l2, vectorizer__word__min_df=7......\n",
      "[CV 4/4; 6/18] END lr__C=0.1, lr__penalty=l2, vectorizer__word__min_df=7; Accuracy: (train=0.927, test=0.882) F1: (train=0.927, test=0.881) total time=   3.1s\n",
      "[CV 1/4; 7/18] START lr__C=0.5, lr__penalty=l1, vectorizer__word__min_df=3......\n",
      "[CV 1/4; 7/18] END lr__C=0.5, lr__penalty=l1, vectorizer__word__min_df=3; Accuracy: (train=0.927, test=0.911) F1: (train=0.927, test=0.910) total time=   5.4s\n",
      "[CV 2/4; 7/18] START lr__C=0.5, lr__penalty=l1, vectorizer__word__min_df=3......\n",
      "[CV 2/4; 7/18] END lr__C=0.5, lr__penalty=l1, vectorizer__word__min_df=3; Accuracy: (train=0.931, test=0.905) F1: (train=0.931, test=0.904) total time=   5.5s\n",
      "[CV 3/4; 7/18] START lr__C=0.5, lr__penalty=l1, vectorizer__word__min_df=3......\n",
      "[CV 3/4; 7/18] END lr__C=0.5, lr__penalty=l1, vectorizer__word__min_df=3; Accuracy: (train=0.930, test=0.917) F1: (train=0.929, test=0.917) total time=   5.5s\n",
      "[CV 4/4; 7/18] START lr__C=0.5, lr__penalty=l1, vectorizer__word__min_df=3......\n",
      "[CV 4/4; 7/18] END lr__C=0.5, lr__penalty=l1, vectorizer__word__min_df=3; Accuracy: (train=0.928, test=0.909) F1: (train=0.928, test=0.909) total time=   5.4s\n",
      "[CV 1/4; 8/18] START lr__C=0.5, lr__penalty=l1, vectorizer__word__min_df=5......\n",
      "[CV 1/4; 8/18] END lr__C=0.5, lr__penalty=l1, vectorizer__word__min_df=5; Accuracy: (train=0.928, test=0.911) F1: (train=0.928, test=0.910) total time=   4.9s\n",
      "[CV 2/4; 8/18] START lr__C=0.5, lr__penalty=l1, vectorizer__word__min_df=5......\n",
      "[CV 2/4; 8/18] END lr__C=0.5, lr__penalty=l1, vectorizer__word__min_df=5; Accuracy: (train=0.931, test=0.910) F1: (train=0.931, test=0.909) total time=   5.1s\n",
      "[CV 3/4; 8/18] START lr__C=0.5, lr__penalty=l1, vectorizer__word__min_df=5......\n",
      "[CV 3/4; 8/18] END lr__C=0.5, lr__penalty=l1, vectorizer__word__min_df=5; Accuracy: (train=0.930, test=0.916) F1: (train=0.930, test=0.916) total time=   5.0s\n",
      "[CV 4/4; 8/18] START lr__C=0.5, lr__penalty=l1, vectorizer__word__min_df=5......\n",
      "[CV 4/4; 8/18] END lr__C=0.5, lr__penalty=l1, vectorizer__word__min_df=5; Accuracy: (train=0.930, test=0.907) F1: (train=0.929, test=0.907) total time=   5.0s\n",
      "[CV 1/4; 9/18] START lr__C=0.5, lr__penalty=l1, vectorizer__word__min_df=7......\n",
      "[CV 1/4; 9/18] END lr__C=0.5, lr__penalty=l1, vectorizer__word__min_df=7; Accuracy: (train=0.928, test=0.912) F1: (train=0.928, test=0.911) total time=   4.6s\n",
      "[CV 2/4; 9/18] START lr__C=0.5, lr__penalty=l1, vectorizer__word__min_df=7......\n",
      "[CV 2/4; 9/18] END lr__C=0.5, lr__penalty=l1, vectorizer__word__min_df=7; Accuracy: (train=0.931, test=0.908) F1: (train=0.931, test=0.908) total time=   4.8s\n",
      "[CV 3/4; 9/18] START lr__C=0.5, lr__penalty=l1, vectorizer__word__min_df=7......\n"
     ]
    },
    {
     "name": "stdout",
     "output_type": "stream",
     "text": [
      "[CV 3/4; 9/18] END lr__C=0.5, lr__penalty=l1, vectorizer__word__min_df=7; Accuracy: (train=0.931, test=0.917) F1: (train=0.930, test=0.917) total time=   4.7s\n",
      "[CV 4/4; 9/18] START lr__C=0.5, lr__penalty=l1, vectorizer__word__min_df=7......\n",
      "[CV 4/4; 9/18] END lr__C=0.5, lr__penalty=l1, vectorizer__word__min_df=7; Accuracy: (train=0.929, test=0.909) F1: (train=0.929, test=0.909) total time=   4.7s\n",
      "[CV 1/4; 10/18] START lr__C=0.5, lr__penalty=l2, vectorizer__word__min_df=3.....\n",
      "[CV 1/4; 10/18] END lr__C=0.5, lr__penalty=l2, vectorizer__word__min_df=3; Accuracy: (train=0.977, test=0.890) F1: (train=0.977, test=0.889) total time=   4.0s\n",
      "[CV 2/4; 10/18] START lr__C=0.5, lr__penalty=l2, vectorizer__word__min_df=3.....\n",
      "[CV 2/4; 10/18] END lr__C=0.5, lr__penalty=l2, vectorizer__word__min_df=3; Accuracy: (train=0.978, test=0.886) F1: (train=0.978, test=0.885) total time=   4.0s\n",
      "[CV 3/4; 10/18] START lr__C=0.5, lr__penalty=l2, vectorizer__word__min_df=3.....\n",
      "[CV 3/4; 10/18] END lr__C=0.5, lr__penalty=l2, vectorizer__word__min_df=3; Accuracy: (train=0.977, test=0.895) F1: (train=0.977, test=0.894) total time=   4.0s\n",
      "[CV 4/4; 10/18] START lr__C=0.5, lr__penalty=l2, vectorizer__word__min_df=3.....\n",
      "[CV 4/4; 10/18] END lr__C=0.5, lr__penalty=l2, vectorizer__word__min_df=3; Accuracy: (train=0.978, test=0.884) F1: (train=0.978, test=0.884) total time=   4.0s\n",
      "[CV 1/4; 11/18] START lr__C=0.5, lr__penalty=l2, vectorizer__word__min_df=5.....\n",
      "[CV 1/4; 11/18] END lr__C=0.5, lr__penalty=l2, vectorizer__word__min_df=5; Accuracy: (train=0.971, test=0.895) F1: (train=0.971, test=0.894) total time=   3.5s\n",
      "[CV 2/4; 11/18] START lr__C=0.5, lr__penalty=l2, vectorizer__word__min_df=5.....\n",
      "[CV 2/4; 11/18] END lr__C=0.5, lr__penalty=l2, vectorizer__word__min_df=5; Accuracy: (train=0.972, test=0.888) F1: (train=0.972, test=0.887) total time=   3.5s\n",
      "[CV 3/4; 11/18] START lr__C=0.5, lr__penalty=l2, vectorizer__word__min_df=5.....\n",
      "[CV 3/4; 11/18] END lr__C=0.5, lr__penalty=l2, vectorizer__word__min_df=5; Accuracy: (train=0.971, test=0.898) F1: (train=0.971, test=0.897) total time=   3.5s\n",
      "[CV 4/4; 11/18] START lr__C=0.5, lr__penalty=l2, vectorizer__word__min_df=5.....\n",
      "[CV 4/4; 11/18] END lr__C=0.5, lr__penalty=l2, vectorizer__word__min_df=5; Accuracy: (train=0.973, test=0.885) F1: (train=0.973, test=0.885) total time=   3.5s\n",
      "[CV 1/4; 12/18] START lr__C=0.5, lr__penalty=l2, vectorizer__word__min_df=7.....\n",
      "[CV 1/4; 12/18] END lr__C=0.5, lr__penalty=l2, vectorizer__word__min_df=7; Accuracy: (train=0.967, test=0.897) F1: (train=0.967, test=0.896) total time=   3.2s\n",
      "[CV 2/4; 12/18] START lr__C=0.5, lr__penalty=l2, vectorizer__word__min_df=7.....\n",
      "[CV 2/4; 12/18] END lr__C=0.5, lr__penalty=l2, vectorizer__word__min_df=7; Accuracy: (train=0.968, test=0.887) F1: (train=0.968, test=0.886) total time=   3.2s\n",
      "[CV 3/4; 12/18] START lr__C=0.5, lr__penalty=l2, vectorizer__word__min_df=7.....\n",
      "[CV 3/4; 12/18] END lr__C=0.5, lr__penalty=l2, vectorizer__word__min_df=7; Accuracy: (train=0.967, test=0.902) F1: (train=0.966, test=0.901) total time=   3.2s\n",
      "[CV 4/4; 12/18] START lr__C=0.5, lr__penalty=l2, vectorizer__word__min_df=7.....\n",
      "[CV 4/4; 12/18] END lr__C=0.5, lr__penalty=l2, vectorizer__word__min_df=7; Accuracy: (train=0.968, test=0.885) F1: (train=0.968, test=0.884) total time=   3.2s\n",
      "[CV 1/4; 13/18] START lr__C=1, lr__penalty=l1, vectorizer__word__min_df=3.......\n",
      "[CV 1/4; 13/18] END lr__C=1, lr__penalty=l1, vectorizer__word__min_df=3; Accuracy: (train=0.952, test=0.914) F1: (train=0.952, test=0.914) total time=   6.8s\n",
      "[CV 2/4; 13/18] START lr__C=1, lr__penalty=l1, vectorizer__word__min_df=3.......\n",
      "[CV 2/4; 13/18] END lr__C=1, lr__penalty=l1, vectorizer__word__min_df=3; Accuracy: (train=0.959, test=0.906) F1: (train=0.959, test=0.906) total time=   7.1s\n",
      "[CV 3/4; 13/18] START lr__C=1, lr__penalty=l1, vectorizer__word__min_df=3.......\n",
      "[CV 3/4; 13/18] END lr__C=1, lr__penalty=l1, vectorizer__word__min_df=3; Accuracy: (train=0.952, test=0.914) F1: (train=0.952, test=0.914) total time=   7.5s\n",
      "[CV 4/4; 13/18] START lr__C=1, lr__penalty=l1, vectorizer__word__min_df=3.......\n",
      "[CV 4/4; 13/18] END lr__C=1, lr__penalty=l1, vectorizer__word__min_df=3; Accuracy: (train=0.958, test=0.910) F1: (train=0.958, test=0.910) total time=   7.4s\n",
      "[CV 1/4; 14/18] START lr__C=1, lr__penalty=l1, vectorizer__word__min_df=5.......\n",
      "[CV 1/4; 14/18] END lr__C=1, lr__penalty=l1, vectorizer__word__min_df=5; Accuracy: (train=0.952, test=0.912) F1: (train=0.952, test=0.912) total time=   6.2s\n",
      "[CV 2/4; 14/18] START lr__C=1, lr__penalty=l1, vectorizer__word__min_df=5.......\n",
      "[CV 2/4; 14/18] END lr__C=1, lr__penalty=l1, vectorizer__word__min_df=5; Accuracy: (train=0.957, test=0.907) F1: (train=0.957, test=0.906) total time=   6.4s\n",
      "[CV 3/4; 14/18] START lr__C=1, lr__penalty=l1, vectorizer__word__min_df=5.......\n",
      "[CV 3/4; 14/18] END lr__C=1, lr__penalty=l1, vectorizer__word__min_df=5; Accuracy: (train=0.953, test=0.914) F1: (train=0.953, test=0.914) total time=   6.9s\n",
      "[CV 4/4; 14/18] START lr__C=1, lr__penalty=l1, vectorizer__word__min_df=5.......\n",
      "[CV 4/4; 14/18] END lr__C=1, lr__penalty=l1, vectorizer__word__min_df=5; Accuracy: (train=0.957, test=0.909) F1: (train=0.957, test=0.909) total time=   6.5s\n",
      "[CV 1/4; 15/18] START lr__C=1, lr__penalty=l1, vectorizer__word__min_df=7.......\n",
      "[CV 1/4; 15/18] END lr__C=1, lr__penalty=l1, vectorizer__word__min_df=7; Accuracy: (train=0.951, test=0.911) F1: (train=0.951, test=0.910) total time=   6.1s\n",
      "[CV 2/4; 15/18] START lr__C=1, lr__penalty=l1, vectorizer__word__min_df=7.......\n",
      "[CV 2/4; 15/18] END lr__C=1, lr__penalty=l1, vectorizer__word__min_df=7; Accuracy: (train=0.958, test=0.908) F1: (train=0.958, test=0.908) total time=   6.1s\n",
      "[CV 3/4; 15/18] START lr__C=1, lr__penalty=l1, vectorizer__word__min_df=7.......\n",
      "[CV 3/4; 15/18] END lr__C=1, lr__penalty=l1, vectorizer__word__min_df=7; Accuracy: (train=0.953, test=0.915) F1: (train=0.953, test=0.915) total time=   6.4s\n",
      "[CV 4/4; 15/18] START lr__C=1, lr__penalty=l1, vectorizer__word__min_df=7.......\n",
      "[CV 4/4; 15/18] END lr__C=1, lr__penalty=l1, vectorizer__word__min_df=7; Accuracy: (train=0.957, test=0.909) F1: (train=0.956, test=0.909) total time=   6.4s\n",
      "[CV 1/4; 16/18] START lr__C=1, lr__penalty=l2, vectorizer__word__min_df=3.......\n",
      "[CV 1/4; 16/18] END lr__C=1, lr__penalty=l2, vectorizer__word__min_df=3; Accuracy: (train=0.990, test=0.887) F1: (train=0.990, test=0.886) total time=   4.0s\n",
      "[CV 2/4; 16/18] START lr__C=1, lr__penalty=l2, vectorizer__word__min_df=3.......\n",
      "[CV 2/4; 16/18] END lr__C=1, lr__penalty=l2, vectorizer__word__min_df=3; Accuracy: (train=0.992, test=0.883) F1: (train=0.992, test=0.882) total time=   4.1s\n",
      "[CV 3/4; 16/18] START lr__C=1, lr__penalty=l2, vectorizer__word__min_df=3.......\n",
      "[CV 3/4; 16/18] END lr__C=1, lr__penalty=l2, vectorizer__word__min_df=3; Accuracy: (train=0.990, test=0.891) F1: (train=0.990, test=0.891) total time=   4.0s\n",
      "[CV 4/4; 16/18] START lr__C=1, lr__penalty=l2, vectorizer__word__min_df=3.......\n",
      "[CV 4/4; 16/18] END lr__C=1, lr__penalty=l2, vectorizer__word__min_df=3; Accuracy: (train=0.990, test=0.883) F1: (train=0.990, test=0.882) total time=   4.0s\n",
      "[CV 1/4; 17/18] START lr__C=1, lr__penalty=l2, vectorizer__word__min_df=5.......\n",
      "[CV 1/4; 17/18] END lr__C=1, lr__penalty=l2, vectorizer__word__min_df=5; Accuracy: (train=0.986, test=0.891) F1: (train=0.986, test=0.889) total time=   3.5s\n",
      "[CV 2/4; 17/18] START lr__C=1, lr__penalty=l2, vectorizer__word__min_df=5.......\n",
      "[CV 2/4; 17/18] END lr__C=1, lr__penalty=l2, vectorizer__word__min_df=5; Accuracy: (train=0.987, test=0.880) F1: (train=0.987, test=0.879) total time=   3.5s\n",
      "[CV 3/4; 17/18] START lr__C=1, lr__penalty=l2, vectorizer__word__min_df=5.......\n",
      "[CV 3/4; 17/18] END lr__C=1, lr__penalty=l2, vectorizer__word__min_df=5; Accuracy: (train=0.985, test=0.895) F1: (train=0.985, test=0.894) total time=   3.6s\n",
      "[CV 4/4; 17/18] START lr__C=1, lr__penalty=l2, vectorizer__word__min_df=5.......\n",
      "[CV 4/4; 17/18] END lr__C=1, lr__penalty=l2, vectorizer__word__min_df=5; Accuracy: (train=0.987, test=0.882) F1: (train=0.987, test=0.881) total time=   3.5s\n",
      "[CV 1/4; 18/18] START lr__C=1, lr__penalty=l2, vectorizer__word__min_df=7.......\n",
      "[CV 1/4; 18/18] END lr__C=1, lr__penalty=l2, vectorizer__word__min_df=7; Accuracy: (train=0.982, test=0.894) F1: (train=0.982, test=0.893) total time=   3.3s\n",
      "[CV 2/4; 18/18] START lr__C=1, lr__penalty=l2, vectorizer__word__min_df=7.......\n"
     ]
    },
    {
     "name": "stdout",
     "output_type": "stream",
     "text": [
      "[CV 2/4; 18/18] END lr__C=1, lr__penalty=l2, vectorizer__word__min_df=7; Accuracy: (train=0.984, test=0.881) F1: (train=0.984, test=0.880) total time=   3.3s\n",
      "[CV 3/4; 18/18] START lr__C=1, lr__penalty=l2, vectorizer__word__min_df=7.......\n",
      "[CV 3/4; 18/18] END lr__C=1, lr__penalty=l2, vectorizer__word__min_df=7; Accuracy: (train=0.981, test=0.896) F1: (train=0.981, test=0.896) total time=   3.3s\n",
      "[CV 4/4; 18/18] START lr__C=1, lr__penalty=l2, vectorizer__word__min_df=7.......\n",
      "[CV 4/4; 18/18] END lr__C=1, lr__penalty=l2, vectorizer__word__min_df=7; Accuracy: (train=0.984, test=0.886) F1: (train=0.984, test=0.885) total time=   3.3s\n",
      "all\n",
      "LogisticRegression(solver='liblinear')\n",
      "Best f1 on validation: 0.9113\n",
      "Best parameters: {'lr__C': 0.5, 'lr__penalty': 'l1', 'vectorizer__word__min_df': 7} \n",
      "\n",
      "Accuracy: 0.9134\n",
      "F1 macro: 0.9130\n"
     ]
    },
    {
     "data": {
      "image/png": "[encoded data removed]",
      "text/plain": [
       "<Figure size 432x288 with 2 Axes>"
      ]
     },
     "metadata": {
      "needs_background": "light"
     },
     "output_type": "display_data"
    },
    {
     "name": "stdout",
     "output_type": "stream",
     "text": [
      "4865\n",
      "class 0\n"
     ]
    },
    {
     "data": {
      "image/png": "[encoded data removed]",
      "text/plain": [
       "<Figure size 648x216 with 1 Axes>"
      ]
     },
     "metadata": {
      "needs_background": "light"
     },
     "output_type": "display_data"
    },
    {
     "name": "stdout",
     "output_type": "stream",
     "text": [
      "class 1\n"
     ]
    },
    {
     "data": {
      "image/png": "[encoded data removed]",
      "text/plain": [
       "<Figure size 648x216 with 1 Axes>"
      ]
     },
     "metadata": {
      "needs_background": "light"
     },
     "output_type": "display_data"
    },
    {
     "name": "stdout",
     "output_type": "stream",
     "text": [
      "class 2\n"
     ]
    },
    {
     "data": {
      "image/png": "[encoded data removed]",
      "text/plain": [
       "<Figure size 648x216 with 1 Axes>"
      ]
     },
     "metadata": {
      "needs_background": "light"
     },
     "output_type": "display_data"
    }
   ],
   "source": [
    "for feature_set, clfs_column_trans in features.items():\n",
    "    clfs = clfs_column_trans[\"clfs\"]\n",
    "    column_trans = clfs_column_trans[\"column_trans\"]\n",
    "    classification(feature_set, clfs, column_trans)"
   ]
  },
  {
   "cell_type": "code",
   "execution_count": 47,
   "metadata": {},
   "outputs": [],
   "source": [
    "baseline = y_test.value_counts(normalize=True).max()"
   ]
  },
  {
   "cell_type": "code",
   "execution_count": 48,
   "metadata": {},
   "outputs": [],
   "source": [
    "def plot_different_classifiers(results, baseline, feature_set):\n",
    "    mini_df = pd.DataFrame(results[feature_set])\n",
    "    mini_df.to_csv(os.path.join(\"results\", feature_set, f\"{feature_set}-results.csv\"))\n",
    "    print(f\"\\n{feature_set}\")\n",
    "    mini_df[['Accuracy (test)', 'F1 macro (test)']].plot.bar()\n",
    "    plt.axhline(y=baseline, color=\"k\")\n",
    "    plt.ylim(0, 1)\n",
    "    plt.savefig(os.path.join(\"illustrations\", feature_set, f\"{feature_set}-results.png\"), bbox_inches='tight')\n",
    "    plt.show()\n",
    "    \n",
    "    max_value = 0\n",
    "    best_clf = \"\"\n",
    "    for clf, value in results[feature_set][\"F1 macro (test)\"].items():\n",
    "        if value > max_value:\n",
    "            best_clf = clf\n",
    "            \n",
    "    print(\"Best result:\")\n",
    "    print(best_clf)\n",
    "    \n",
    "    for metric in (\"Accuracy (test)\", \"F1 macro (test)\"):\n",
    "        print(f\"{metric}: {results[feature_set][metric][clf]}\")"
   ]
  },
  {
   "cell_type": "code",
   "execution_count": 49,
   "metadata": {},
   "outputs": [
    {
     "name": "stdout",
     "output_type": "stream",
     "text": [
      "\n",
      "lexical\n"
     ]
    },
    {
     "data": {
      "image/png": "[encoded data removed]",
      "text/plain": [
       "<Figure size 432x288 with 1 Axes>"
      ]
     },
     "metadata": {
      "needs_background": "light"
     },
     "output_type": "display_data"
    },
    {
     "name": "stdout",
     "output_type": "stream",
     "text": [
      "Best result:\n",
      "lr\n",
      "Accuracy (test): 0.8523\n",
      "F1 macro (test): 0.8518\n",
      "\n",
      "grammatical\n"
     ]
    },
    {
     "data": {
      "image/png": "[encoded data removed]",
      "text/plain": [
       "<Figure size 432x288 with 1 Axes>"
      ]
     },
     "metadata": {
      "needs_background": "light"
     },
     "output_type": "display_data"
    },
    {
     "name": "stdout",
     "output_type": "stream",
     "text": [
      "Best result:\n",
      "lr\n",
      "Accuracy (test): 0.8788\n",
      "F1 macro (test): 0.8779\n",
      "\n",
      "all\n"
     ]
    },
    {
     "data": {
      "image/png": "[encoded data removed]",
      "text/plain": [
       "<Figure size 432x288 with 1 Axes>"
      ]
     },
     "metadata": {
      "needs_background": "light"
     },
     "output_type": "display_data"
    },
    {
     "name": "stdout",
     "output_type": "stream",
     "text": [
      "Best result:\n",
      "lr\n",
      "Accuracy (test): 0.9134\n",
      "F1 macro (test): 0.913\n"
     ]
    }
   ],
   "source": [
    "for feature_set in features:\n",
    "    plot_different_classifiers(results, baseline, feature_set)"
   ]
  },
  {
   "cell_type": "code",
   "execution_count": null,
   "metadata": {},
   "outputs": [],
   "source": []
  }
 ],
 "metadata": {
  "kernelspec": {
   "display_name": "Python 3",
   "language": "python",
   "name": "python3"
  }
 },
 "nbformat": 4,
 "nbformat_minor": 2
}
